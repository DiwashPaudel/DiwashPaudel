{
  "nbformat": 4,
  "nbformat_minor": 0,
  "metadata": {
    "colab": {
      "provenance": [],
      "authorship_tag": "ABX9TyOT5ipmQ7NaKQuHC+Yt3z2Y",
      "include_colab_link": true
    },
    "kernelspec": {
      "name": "python3",
      "display_name": "Python 3"
    },
    "language_info": {
      "name": "python"
    }
  },
  "cells": [
    {
      "cell_type": "markdown",
      "metadata": {
        "id": "view-in-github",
        "colab_type": "text"
      },
      "source": [
        "<a href=\"https://colab.research.google.com/github/DiwashPaudel/DiwashPaudel/blob/main/S00393611_Diwash_Paudel_ITEC610_AT3.ipynb\" target=\"_parent\"><img src=\"https://colab.research.google.com/assets/colab-badge.svg\" alt=\"Open In Colab\"/></a>"
      ]
    },
    {
      "cell_type": "markdown",
      "source": [
        "**ASSESSMENT 3**"
      ],
      "metadata": {
        "id": "QgoIj0NwZSnt"
      }
    },
    {
      "cell_type": "markdown",
      "source": [
        "#Task 1"
      ],
      "metadata": {
        "id": "TRZCDA9YZ2-3"
      }
    },
    {
      "cell_type": "markdown",
      "source": [
        "Step 1: Import necessary libraries"
      ],
      "metadata": {
        "id": "-Pm7cHF1YKLl"
      }
    },
    {
      "cell_type": "code",
      "source": [
        "# Importing libraries for data analysis and visualization\n",
        "import pandas as pd\n",
        "import numpy as np\n",
        "import matplotlib.pyplot as plt\n",
        "import seaborn as sns\n",
        "from sklearn.linear_model import LinearRegression\n",
        "from sklearn.model_selection import train_test_split\n",
        "from google.colab import files\n"
      ],
      "metadata": {
        "id": "N0fsqgCRYpvS"
      },
      "execution_count": 12,
      "outputs": []
    },
    {
      "cell_type": "markdown",
      "source": [
        "Step 2: Load dataset\n"
      ],
      "metadata": {
        "id": "BhbYw9jeYTi1"
      }
    },
    {
      "cell_type": "code",
      "execution_count": 15,
      "metadata": {
        "id": "e10EyDr6WtPn"
      },
      "outputs": [],
      "source": [
        "# uploading the dataset 'brfss.csv' to Google Colab environment.\n",
        "# After uploading, you can use the following code to load it into a DataFrame.\n",
        "#its not neccesity we can upload from file as well\n",
        "#uploaded = files.upload()\n",
        "\n",
        "# Read the uploaded CSV file\n",
        "df = pd.read_csv('sample_data/ITEC610_assessment3_data.csv')"
      ]
    },
    {
      "cell_type": "markdown",
      "source": [
        "Step 3: Displaying first few rows to understand the data\n"
      ],
      "metadata": {
        "id": "1TCpYJpuar-u"
      }
    },
    {
      "cell_type": "code",
      "source": [
        "print(df.head())"
      ],
      "metadata": {
        "colab": {
          "base_uri": "https://localhost:8080/"
        },
        "id": "P7qtpXhbYeSb",
        "outputId": "3ca87873-f551-480b-cc67-97d4b4ef7d9c"
      },
      "execution_count": 16,
      "outputs": [
        {
          "output_type": "stream",
          "name": "stdout",
          "text": [
            "   Unnamed: 0   age     weight2     wtyrago   wtkg2   htm3  sex\n",
            "0           0  39.0   88.636364   88.636364   88.64  180.0  1.0\n",
            "1           1  64.0   75.000000   84.545455   75.00  155.0  2.0\n",
            "2           2  87.0   61.818182   63.636364   61.82    NaN  2.0\n",
            "3           3  51.0  100.000000  100.000000  100.00  183.0  1.0\n",
            "4           4  35.0   63.636364   61.363636   63.64  170.0  2.0\n"
          ]
        }
      ]
    },
    {
      "cell_type": "markdown",
      "source": [
        "Step 4: Data Cleaning and Correction"
      ],
      "metadata": {
        "id": "AerlGLhCa8cB"
      }
    },
    {
      "cell_type": "code",
      "source": [
        "# Check for missing values\n",
        "print(df.isnull().sum())\n",
        "## Removing unnecessary index column since it is unnamed on the file\n",
        "df.drop(columns=['Unnamed: 0'], inplace=True)\n",
        "\n",
        "# Handling a missing values\n",
        "#df.dropna(inplace=True)  #I am dropping rows with missing values.\n",
        "df.dropna(subset=['weight2', 'wtyrago', 'wtkg2', 'htm3'], inplace=True)"
      ],
      "metadata": {
        "colab": {
          "base_uri": "https://localhost:8080/"
        },
        "id": "HwTwiM55a8Bt",
        "outputId": "133f3933-fa27-4d1f-8f25-310c84f063e6"
      },
      "execution_count": 18,
      "outputs": [
        {
          "output_type": "stream",
          "name": "stdout",
          "text": [
            "Unnamed: 0    0\n",
            "age           0\n",
            "weight2       0\n",
            "wtyrago       0\n",
            "wtkg2         0\n",
            "htm3          0\n",
            "sex           0\n",
            "dtype: int64\n"
          ]
        }
      ]
    },
    {
      "cell_type": "markdown",
      "source": [
        "Step 5: Data Wrangling"
      ],
      "metadata": {
        "id": "pxCTCJWfcG6A"
      }
    },
    {
      "cell_type": "code",
      "source": [
        "# Encode sex as 'Male' and 'Female' for better readability\n",
        "df['sex'] = df['sex'].replace({1: 'Male', 2: 'Female'})"
      ],
      "metadata": {
        "id": "IeB_eYrFcHgt"
      },
      "execution_count": 21,
      "outputs": []
    },
    {
      "cell_type": "markdown",
      "source": [
        "Step 6: Exploratory Data Analysis (EDA)\n"
      ],
      "metadata": {
        "id": "KpRA53EtcfQc"
      }
    },
    {
      "cell_type": "code",
      "source": [
        "# Producing summary statistics for Current Weight, Weight a Year Ago, and Height\n",
        "summary_stats = df[['weight2', 'wtyrago', 'htm3']].describe()\n",
        "\n",
        "# Extracting relevant statistics\n",
        "min_vals = summary_stats.loc['min'].values\n",
        "max_vals = summary_stats.loc['max'].values\n",
        "mean_vals = summary_stats.loc['mean'].values\n",
        "std_vals = summary_stats.loc['std'].values\n",
        "median_vals = summary_stats.loc['50%'].values\n",
        "percentile_25 = summary_stats.loc['25%'].values\n",
        "percentile_75 = summary_stats.loc['75%'].values\n",
        "print(\"Summary Statistics:\\n\", summary_stats)"
      ],
      "metadata": {
        "colab": {
          "base_uri": "https://localhost:8080/"
        },
        "id": "JLdBjC1PcfrR",
        "outputId": "4f8875d8-176f-4c6d-afc2-302835f0194b"
      },
      "execution_count": 25,
      "outputs": [
        {
          "output_type": "stream",
          "name": "stdout",
          "text": [
            "Summary Statistics:\n",
            "              weight2        wtyrago           htm3\n",
            "count  166151.000000  166151.000000  166151.000000\n",
            "mean       78.616092      79.352082     168.845574\n",
            "std        19.490640      20.591187      10.377038\n",
            "min        22.727273      22.727273      61.000000\n",
            "25%        63.636364      63.636364     160.000000\n",
            "50%        76.363636      77.272727     168.000000\n",
            "75%        90.000000      90.909091     175.000000\n",
            "max       272.727273     290.909091     229.000000\n"
          ]
        }
      ]
    },
    {
      "cell_type": "code",
      "source": [
        "# Plotting the summary statistics as a boxplot\n",
        "# Defining X axis labels\n",
        "categories = ['Current_weight', 'Weight_a_year_ago', 'Height']\n",
        "\n",
        "#Plotting the summary statistics graph\n",
        "\n",
        "plt.figure(figsize=(8, 6))\n",
        "\n",
        "# Plotting each statistic\n",
        "plt.scatter(categories, max_vals, marker='v', color='black', label='max', s=100)\n",
        "plt.scatter(categories, min_vals, marker='^', color='black', label='min', s=100)\n",
        "plt.scatter(categories, mean_vals, marker='x', color='blue', label='mean', s=100)\n",
        "plt.scatter(categories, median_vals, marker='*', color='red', label='median', s=100)\n",
        "plt.scatter(categories, mean_vals + std_vals, marker='v', color='green', label='mean+std', s=100)\n",
        "plt.scatter(categories, mean_vals - std_vals, marker='^', color='green', label='mean-std', s=100)\n",
        "plt.scatter(categories, percentile_75, marker='>', color='orange', label='75 perc', s=100)\n",
        "plt.scatter(categories, percentile_25, marker='<', color='orange', label='25 perc', s=100)\n",
        "\n",
        "# Adding the legend in the top-right\n",
        "plt.legend(loc='upper right')\n",
        "\n",
        "# Adding labels and title\n",
        "plt.title(\"Summary Statistics of Current Weight, Weight a Year Ago, and Height\")\n",
        "\n",
        "# Adding custom labels outside the plot\n",
        "plt.annotate('Weight', xy=(-0.15, 0.5), xycoords='axes fraction', fontsize=12, ha='center', rotation=0)\n",
        "plt.annotate('Height', xy=(1.05, 0.5), xycoords='axes fraction', fontsize=12, ha='center', rotation=0)\n",
        "\n",
        "\n",
        "# Label for the Y-axis\n",
        "plt.ylabel(\"Values (kg/cm)\")\n",
        "\n",
        "# Tight layout to prevent label overlap\n",
        "plt.tight_layout()\n",
        "\n",
        "# Display the plot\n",
        "plt.show()"
      ],
      "metadata": {
        "colab": {
          "base_uri": "https://localhost:8080/",
          "height": 607
        },
        "id": "7OTA4gGEnIhW",
        "outputId": "8dd37700-edd3-47eb-c081-9ebbc43795bb"
      },
      "execution_count": 29,
      "outputs": [
        {
          "output_type": "display_data",
          "data": {
            "text/plain": [
              "<Figure size 800x600 with 1 Axes>"
            ],
            "image/png": "[encoded data removed]"
          },
          "metadata": {}
        }
      ]
    },
    {
      "cell_type": "markdown",
      "source": [
        "#Task 2"
      ],
      "metadata": {
        "id": "lkEaSmtAcgLb"
      }
    },
    {
      "cell_type": "markdown",
      "source": [
        "Step 7: Correlation analysis"
      ],
      "metadata": {
        "id": "y1miK86ndEEu"
      }
    },
    {
      "cell_type": "code",
      "source": [
        "# Creating a new column 'weight_change'\n",
        "df['weight_change'] = df['weight2'] - df['wtyrago']\n",
        "# Calculate correlation between weight_change and other variables\n",
        "correlation_matrix = df[['weight_change', 'weight2', 'wtyrago', 'age']].corr()\n",
        "print(\"\\nCorrelation Matrix:\\n\", correlation_matrix)"
      ],
      "metadata": {
        "colab": {
          "base_uri": "https://localhost:8080/"
        },
        "id": "C6-GeE0tcgnG",
        "outputId": "64691803-caa3-44b3-d6be-40b39a9dcf3c"
      },
      "execution_count": 23,
      "outputs": [
        {
          "output_type": "stream",
          "name": "stdout",
          "text": [
            "\n",
            "Correlation Matrix:\n",
            "                weight_change   weight2   wtyrago       age\n",
            "weight_change       1.000000  0.028366 -0.323665 -0.067879\n",
            "weight2             0.028366  1.000000  0.936610 -0.077757\n",
            "wtyrago            -0.323665  0.936610  1.000000 -0.049808\n",
            "age                -0.067879 -0.077757 -0.049808  1.000000\n"
          ]
        }
      ]
    },
    {
      "cell_type": "markdown",
      "source": [
        "Step 8: Scatter plots to visualize correlation"
      ],
      "metadata": {
        "id": "l__opXx5dS2R"
      }
    },
    {
      "cell_type": "code",
      "source": [
        "# Scatter plot for weight_change vs current_weight\n",
        "plt.figure(figsize=(8, 6))\n",
        "sns.scatterplot(data=df, x='current_weight', y='weight_change')\n",
        "plt.title('Weight Change vs Current Weight')\n",
        "plt.show()\n",
        "\n",
        "# Scatter plot for weight_change vs weight_a_year_ago\n",
        "plt.figure(figsize=(8, 6))\n",
        "sns.scatterplot(data=df, x='weight_a_year_ago', y='weight_change')\n",
        "plt.title('Weight Change vs Weight a Year Ago')\n",
        "plt.show()\n",
        "\n",
        "# Scatter plot for weight_change vs age\n",
        "plt.figure(figsize=(8, 6))\n",
        "sns.scatterplot(data=df, x='age', y='weight_change')\n",
        "plt.title('Weight Change vs Age')\n",
        "plt.show()\n"
      ],
      "metadata": {
        "id": "QXGJ4iyKdSO_"
      },
      "execution_count": null,
      "outputs": []
    },
    {
      "cell_type": "markdown",
      "source": [
        "#Task 3"
      ],
      "metadata": {
        "id": "J0S1d2vCdgg0"
      }
    },
    {
      "cell_type": "markdown",
      "source": [
        "Step 9: Predictive Modeling\n"
      ],
      "metadata": {
        "id": "d-I5nGRzdkxG"
      }
    },
    {
      "cell_type": "code",
      "source": [
        "# Simple Linear Regression for predicting house prices based on size (Task 3)\n",
        "house_sizes = np.array([[1500], [2000], [2500], [3000], [3500]])\n",
        "house_prices = np.array([250000, 300000, 330000, 360000, 390000])\n",
        "\n",
        "# Creating the model\n",
        "model = LinearRegression()\n",
        "\n",
        "# Fitting the model\n",
        "model.fit(house_sizes, house_prices)\n",
        "\n",
        "# Predicting the price for a 2500 sqft house\n",
        "predicted_price = model.predict([[2500]])\n",
        "print(f'The predicted price for a 2500 sqft house is: ${predicted_price[0]:,.2f}')\n"
      ],
      "metadata": {
        "id": "Lt-ZhB6Kdj7b"
      },
      "execution_count": null,
      "outputs": []
    },
    {
      "cell_type": "markdown",
      "source": [
        "Explanation of the Steps:\n",
        "Library Imports: Necessary libraries like Pandas for data manipulation, Matplotlib and Seaborn for visualization, and Scikit-learn for modeling are imported.\n",
        "Loading the Dataset: The dataset is uploaded to Google Colab using the files.upload() function, and loaded into a Pandas DataFrame.\n",
        "Initial Data Inspection: This includes a quick check of the first few rows and missing values.\n",
        "Data Cleaning: Handles missing data by dropping null values. You can also fill them in or use imputation if necessary.\n",
        "Data Wrangling: Adds new variables (e.g., weight_change) and adjusts data for readability (e.g., encoding gender).\n",
        "Exploratory Data Analysis: Provides summary statistics and visualizations (box plots and scatter plots) for better insights.\n",
        "Correlation Analysis: Calculates correlations between variables and visualizes them through scatter plots.\n",
        "Predictive Modeling: Implements a simple linear regression model to predict house prices.\n",
        "Conclusion: This step can be done in a text cell summarizing the overall analysis and insights.\n",
        "Make sure to adjust this template with your dataset, and add more cells for detailed discussions of your findings."
      ],
      "metadata": {
        "id": "L3vEj_hheNXL"
      }
    }
  ]
}