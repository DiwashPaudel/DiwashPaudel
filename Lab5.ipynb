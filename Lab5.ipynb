{
  "nbformat": 4,
  "nbformat_minor": 0,
  "metadata": {
    "colab": {
      "provenance": [],
      "authorship_tag": "ABX9TyO6NQKlZZXhmz9HM3pIWH75",
      "include_colab_link": true
    },
    "kernelspec": {
      "name": "python3",
      "display_name": "Python 3"
    },
    "language_info": {
      "name": "python"
    }
  },
  "cells": [
    {
      "cell_type": "markdown",
      "metadata": {
        "id": "view-in-github",
        "colab_type": "text"
      },
      "source": [
        "<a href=\"https://colab.research.google.com/github/DiwashPaudel/DiwashPaudel/blob/main/Lab5.ipynb\" target=\"_parent\"><img src=\"https://colab.research.google.com/assets/colab-badge.svg\" alt=\"Open In Colab\"/></a>"
      ]
    },
    {
      "cell_type": "markdown",
      "source": [
        "**Data Cleaning, Preparation, Wrangling, Join, Combine.**"
      ],
      "metadata": {
        "id": "OQHvVYu6Azkl"
      }
    },
    {
      "cell_type": "code",
      "source": [
        "import numpy as np\n",
        "import pandas as pd\n",
        "from matplotlib import pyplot as plt\n",
        "import matplotlib.image as mpimg\n",
        "\n",
        "\n",
        "df = pd.read_csv('sample_data/lab5 Automobile_data.csv')"
      ],
      "metadata": {
        "id": "OovhgEu_BpBp"
      },
      "execution_count": 5,
      "outputs": []
    },
    {
      "cell_type": "markdown",
      "source": [
        " **Task 1**"
      ],
      "metadata": {
        "id": "HPmI39cvCMun"
      }
    },
    {
      "cell_type": "markdown",
      "source": [
        "**Ans A**. Pandas dataframe with first and last 10 rows.\n"
      ],
      "metadata": {
        "id": "9VL8CLMKBPcu"
      }
    },
    {
      "cell_type": "code",
      "source": [
        "print(\"First 10 rows:\")\n",
        "print(df.head(10))\n",
        "\n",
        "print(\"\\nLast 10 rows:\")\n",
        "print(df.tail(10))\n"
      ],
      "metadata": {
        "colab": {
          "base_uri": "https://localhost:8080/",
          "height": 0
        },
        "id": "YsrZ3o0GCXlu",
        "outputId": "94cb8d7f-4a1f-42d1-ba8d-3e3e4de4575d"
      },
      "execution_count": 6,
      "outputs": [
        {
          "output_type": "stream",
          "name": "stdout",
          "text": [
            "First 10 rows:\n",
            "   index      company   body-style wheel-base  length engine-type  \\\n",
            "0      0  alfa-romero  convertible       88.6   168.8        dohc   \n",
            "1      1  alfa-romero         n.a.       88.6   168.8        dohc   \n",
            "2      2  alfa-romero    hatchback       94.5   171.2        ohcv   \n",
            "3      3         audi        sedan       99.8   176.6         ohc   \n",
            "4      4         audi        sedan       99.4   176.6         ohc   \n",
            "5      5         audi        sedan       99.8   177.3         ohc   \n",
            "6      6         audi        wagon      105.8   192.7         ohc   \n",
            "7      9          bmw        sedan      101.2   176.8         ohc   \n",
            "8     10          bmw        sedan      101.2   176.8         ohc   \n",
            "9     11          bmw        sedan      101.2   176.8         ohc   \n",
            "\n",
            "  num-of-cylinders horsepower  average-mileage  price  \n",
            "0             four        111               21  13495  \n",
            "1             four        111               21  16500  \n",
            "2              six        154               19  16500  \n",
            "3             four        102               24  13950  \n",
            "4             five        115               18  17450  \n",
            "5             five          ?               19      ?  \n",
            "6             five        110               19  18920  \n",
            "7             four        101               23  16430  \n",
            "8             four        101               23  16925  \n",
            "9              six        121               21  20970  \n",
            "\n",
            "Last 10 rows:\n",
            "    index     company body-style wheel-base  length engine-type  \\\n",
            "51     69      toyota      wagon       95.7   169.7         ohc   \n",
            "52     70      toyota      wagon       95.7   169.7         ohc   \n",
            "53     71      toyota      wagon       95.7   169.7         ohc   \n",
            "54     79      toyota      wagon      104.5   187.8        n.a.   \n",
            "55     80  volkswagen      sedan       97.3   171.7         ohc   \n",
            "56     81  volkswagen      sedan       97.3   171.7         ohc   \n",
            "57     82  volkswagen      sedan       97.3   171.7         ohc   \n",
            "58     86  volkswagen      sedan       97.3   171.7         ohc   \n",
            "59     87       volvo      sedan      104.3   188.8         ohc   \n",
            "60     88       volvo      wagon      104.3   188.8         ohc   \n",
            "\n",
            "   num-of-cylinders horsepower  average-mileage  price  \n",
            "51             four         62               31   6918  \n",
            "52             four         62               27   7898  \n",
            "53             four         62               27   8778  \n",
            "54              six        156               19  15750  \n",
            "55             four         52               37   7775  \n",
            "56             four         85               27   7975  \n",
            "57             four         52               37   7995  \n",
            "58             four        100               26   9995  \n",
            "59             four        114               23  12940  \n",
            "60             four        114               23  13415  \n"
          ]
        }
      ]
    },
    {
      "cell_type": "markdown",
      "source": [
        "**Ans B.**Replacing all column values containing ‘?’, na or empty with NaN and updating ‘Automobile_data.csv’ file"
      ],
      "metadata": {
        "id": "S9mipvbcDOfV"
      }
    },
    {
      "cell_type": "code",
      "execution_count": 7,
      "metadata": {
        "id": "ONehDtyPAiu0"
      },
      "outputs": [],
      "source": [
        "df.replace(['?', 'na', ''], np.nan, inplace=True)\n",
        "df.to_csv('sample_data/Automobile_data.csv', index=False)\n"
      ]
    },
    {
      "cell_type": "markdown",
      "source": [
        "**Ans C**. Find the company name of the most expensive car."
      ],
      "metadata": {
        "id": "ZIlaAsTMD5ES"
      }
    },
    {
      "cell_type": "code",
      "source": [
        "# Converting price into numeric (because it may contain '?')\n",
        "df['price'] = pd.to_numeric(df['price'], errors='coerce')\n",
        "# Find the most expensive car\n",
        "most_expensive_car = df.loc[df['price'].idxmax()]\n",
        "print(f\"The most expensive car is from: {most_expensive_car['company']}\")"
      ],
      "metadata": {
        "colab": {
          "base_uri": "https://localhost:8080/",
          "height": 0
        },
        "id": "cAiFauAMD5XY",
        "outputId": "5f3a7792-214f-49e9-f164-acc9330bf8e7"
      },
      "execution_count": 8,
      "outputs": [
        {
          "output_type": "stream",
          "name": "stdout",
          "text": [
            "The most expensive car is from: mercedes-benz\n"
          ]
        }
      ]
    },
    {
      "cell_type": "markdown",
      "source": [
        "**Ans D.** All bmw car details."
      ],
      "metadata": {
        "id": "WYOgKj2XFO74"
      }
    },
    {
      "cell_type": "code",
      "source": [
        "# Filter for BMW cars\n",
        "bmw_cars = df[df['company'] == 'bmw']\n",
        "print(\"BMW Car Details:\")\n",
        "print(bmw_cars)\n"
      ],
      "metadata": {
        "colab": {
          "base_uri": "https://localhost:8080/",
          "height": 0
        },
        "id": "Qd3Kx-nvFP0i",
        "outputId": "ac67df6d-f16a-4e8e-a84c-cf0172c7a02e"
      },
      "execution_count": 9,
      "outputs": [
        {
          "output_type": "stream",
          "name": "stdout",
          "text": [
            "BMW Car Details:\n",
            "    index company body-style wheel-base  length engine-type num-of-cylinders  \\\n",
            "7       9     bmw      sedan      101.2   176.8         ohc             four   \n",
            "8      10     bmw      sedan      101.2   176.8         ohc             four   \n",
            "9      11     bmw      sedan      101.2   176.8         ohc              six   \n",
            "10     13     bmw      sedan      103.5   189.0         ohc              six   \n",
            "11     14     bmw      sedan      103.5   193.8         ohc              six   \n",
            "12     15     bmw      sedan        110   197.0         ohc              six   \n",
            "\n",
            "   horsepower  average-mileage    price  \n",
            "7         101               23  16430.0  \n",
            "8         101               23  16925.0  \n",
            "9         121               21  20970.0  \n",
            "10        182               16  30760.0  \n",
            "11        182               16  41315.0  \n",
            "12        182               15  36880.0  \n"
          ]
        }
      ]
    },
    {
      "cell_type": "markdown",
      "source": [
        "**Ans E**. Total number of cars with car detail and highest price"
      ],
      "metadata": {
        "id": "_FuzOls2FauE"
      }
    },
    {
      "cell_type": "code",
      "source": [
        "# Group by company and find the total number of cars\n",
        "car_count = df['company'].value_counts()\n",
        "\n",
        "# Group by company and find the car with the highest price\n",
        "highest_price_car = df.loc[df.groupby('company')['price'].idxmax()]\n",
        "\n",
        "print(\"Total number of cars for each company:\")\n",
        "print(car_count)\n",
        "\n",
        "print(\"\\nCar with the highest price for each company:\")\n",
        "print(highest_price_car)\n"
      ],
      "metadata": {
        "colab": {
          "base_uri": "https://localhost:8080/",
          "height": 0
        },
        "id": "HQHaXVxrFcXc",
        "outputId": "7b43d9a9-3bd1-4d63-b92a-54b5a68b5e1f"
      },
      "execution_count": 10,
      "outputs": [
        {
          "output_type": "stream",
          "name": "stdout",
          "text": [
            "Total number of cars for each company:\n",
            "company\n",
            "toyota           7\n",
            "bmw              6\n",
            "mazda            5\n",
            "nissan           5\n",
            "audi             4\n",
            "mercedes-benz    4\n",
            "mitsubishi       4\n",
            "volkswagen       4\n",
            "alfa-romero      3\n",
            "chevrolet        3\n",
            "honda            3\n",
            "isuzu            3\n",
            "jaguar           3\n",
            "porsche          3\n",
            "dodge            2\n",
            "volvo            2\n",
            "Name: count, dtype: int64\n",
            "\n",
            "Car with the highest price for each company:\n",
            "    index        company   body-style wheel-base  length engine-type  \\\n",
            "1       1    alfa-romero         n.a.       88.6   168.8        dohc   \n",
            "6       6           audi        wagon      105.8   192.7         ohc   \n",
            "11     14            bmw        sedan      103.5   193.8         ohc   \n",
            "15     18      chevrolet        sedan       94.5   158.8         ohc   \n",
            "16     19          dodge    hatchback       93.7   157.3         ohc   \n",
            "19     28          honda        sedan       96.5   175.4         ohc   \n",
            "21     30          isuzu        sedan       94.3   170.7         ohc   \n",
            "26     35         jaguar        sedan        102   191.7        ohcv   \n",
            "31     43          mazda        sedan      104.9   175.0         ohc   \n",
            "35     47  mercedes-benz      hardtop        112   199.2        ohcv   \n",
            "39     52     mitsubishi        sedan       96.3   172.4         ohc   \n",
            "44     57         nissan        sedan      100.4   184.6        ohcv   \n",
            "46     62        porsche  convertible       89.5   168.9        ohcf   \n",
            "54     79         toyota        wagon      104.5   187.8        n.a.   \n",
            "58     86     volkswagen        sedan       97.3   171.7         ohc   \n",
            "60     88          volvo        wagon      104.3   188.8         ohc   \n",
            "\n",
            "   num-of-cylinders horsepower  average-mileage    price  \n",
            "1              four        111               21  16500.0  \n",
            "6              five        110               19  18920.0  \n",
            "11              six        182               16  41315.0  \n",
            "15             four         70               38   6575.0  \n",
            "16             four         68               31   6377.0  \n",
            "19             four        101               24  12945.0  \n",
            "21             four         78               24   6785.0  \n",
            "26           twelve        262               13  36000.0  \n",
            "31             four         72               31  18344.0  \n",
            "35            eight        184               14  45400.0  \n",
            "39             four         88               25   8189.0  \n",
            "44              six        152               19  13499.0  \n",
            "46              six        207               17  37028.0  \n",
            "54              six        156               19  15750.0  \n",
            "58             four        100               26   9995.0  \n",
            "60             four        114               23  13415.0  \n"
          ]
        }
      ]
    },
    {
      "cell_type": "markdown",
      "source": [
        "**Ans F**. Average mileage."
      ],
      "metadata": {
        "id": "c5F6jqfJFbPn"
      }
    },
    {
      "cell_type": "code",
      "source": [
        "# Convert mileage columns to numeric\n",
        "df['average-mileage'] = pd.to_numeric(df['average-mileage'], errors='coerce')\n",
        "\n",
        "# Group by company and calculate average mileage\n",
        "average_mileage = df.groupby('company')['average-mileage'].mean()\n",
        "\n",
        "print(\"Average mileage for each company:\")\n",
        "print(average_mileage)\n"
      ],
      "metadata": {
        "colab": {
          "base_uri": "https://localhost:8080/",
          "height": 0
        },
        "id": "FqE74J-hFfmx",
        "outputId": "029fd988-f7a4-4f39-b5a4-761651c5f494"
      },
      "execution_count": 11,
      "outputs": [
        {
          "output_type": "stream",
          "name": "stdout",
          "text": [
            "Average mileage for each company:\n",
            "company\n",
            "alfa-romero      20.333333\n",
            "audi             20.000000\n",
            "bmw              19.000000\n",
            "chevrolet        41.000000\n",
            "dodge            31.000000\n",
            "honda            26.333333\n",
            "isuzu            33.333333\n",
            "jaguar           14.333333\n",
            "mazda            28.000000\n",
            "mercedes-benz    18.000000\n",
            "mitsubishi       29.500000\n",
            "nissan           31.400000\n",
            "porsche          17.000000\n",
            "toyota           28.714286\n",
            "volkswagen       31.750000\n",
            "volvo            23.000000\n",
            "Name: average-mileage, dtype: float64\n"
          ]
        }
      ]
    },
    {
      "cell_type": "markdown",
      "source": [
        "**Ans G**. Sort all cars by price and horsepower."
      ],
      "metadata": {
        "id": "6rSSTuygFqcp"
      }
    },
    {
      "cell_type": "code",
      "source": [
        "# Convert horsepower to numeric\n",
        "df['horsepower'] = pd.to_numeric(df['horsepower'], errors='coerce')\n",
        "\n",
        "# Sort by price and then by horsepower\n",
        "sorted_cars = df.sort_values(by=['price', 'horsepower'], ascending=[True, True])\n",
        "\n",
        "print(\"Cars sorted by price and horsepower:\")\n",
        "print(sorted_cars)"
      ],
      "metadata": {
        "colab": {
          "base_uri": "https://localhost:8080/",
          "height": 0
        },
        "id": "QGFwKGJFFq6q",
        "outputId": "c0c1d8bd-4181-47bf-aead-30fa9ef88826"
      },
      "execution_count": 12,
      "outputs": [
        {
          "output_type": "stream",
          "name": "stdout",
          "text": [
            "Cars sorted by price and horsepower:\n",
            "    index     company body-style wheel-base  length engine-type  \\\n",
            "13     16   chevrolet  hatchback       88.4   141.1        n.a.   \n",
            "48     66      toyota  hatchback       95.7   158.7         ohc   \n",
            "36     49  mitsubishi  hatchback       93.7   157.3         ohc   \n",
            "28     37       mazda  hatchback        NaN   159.1         ohc   \n",
            "37     50  mitsubishi  hatchback       93.7   157.3         ohc   \n",
            "..    ...         ...        ...        ...     ...         ...   \n",
            "27     36       mazda  hatchback       93.1   159.1         ohc   \n",
            "22     31       isuzu      sedan       94.5   155.9         ohc   \n",
            "23     32       isuzu      sedan       94.5   155.9         ohc   \n",
            "47     63     porsche  hatchback       98.4   175.7       dohcv   \n",
            "5       5        audi      sedan       99.8   177.3         ohc   \n",
            "\n",
            "   num-of-cylinders  horsepower  average-mileage   price  \n",
            "13            three        48.0               47  5151.0  \n",
            "48             four        62.0               35  5348.0  \n",
            "36             four        68.0               37  5389.0  \n",
            "28             four        68.0               31  6095.0  \n",
            "37             four        68.0               31  6189.0  \n",
            "..              ...         ...              ...     ...  \n",
            "27             four        68.0               30     NaN  \n",
            "22             four        70.0               38     NaN  \n",
            "23             four        70.0               38     NaN  \n",
            "47            eight       288.0               17     NaN  \n",
            "5              five         NaN               19     NaN  \n",
            "\n",
            "[61 rows x 10 columns]\n"
          ]
        }
      ]
    },
    {
      "cell_type": "markdown",
      "source": [
        "**Task 2**"
      ],
      "metadata": {
        "id": "CTGwTK8xH9YA"
      }
    },
    {
      "cell_type": "markdown",
      "source": [
        "Creating Two DataFrame and Concatinating  them"
      ],
      "metadata": {
        "id": "833qIZVSISb0"
      }
    },
    {
      "cell_type": "code",
      "source": [
        "# Creating the first DataFrame\n",
        "data1 = {\n",
        "    'rank': [1, 2, 3, 4],\n",
        "    'team': ['England', 'India', 'NewZealand', 'SouthAfrica'],\n",
        "    'rating': [126, 121, 112, 111]\n",
        "}\n",
        "\n",
        "df1 = pd.DataFrame(data1)\n",
        "\n",
        "# Creating the second DataFrame\n",
        "data2 = {\n",
        "    'rank': [1, 2, 3, 4],\n",
        "    'team': ['Australia', 'SriLanka', 'Pakistan', 'WestIndies'],\n",
        "    'rating': [102, 100, 93, 79]\n",
        "}\n",
        "\n",
        "df2 = pd.DataFrame(data2)\n",
        "\n",
        "# Concatenating the two DataFrames\n",
        "df_concat = pd.concat([df1, df2], ignore_index=True)\n",
        "\n",
        "# Display the concatenated DataFrame\n",
        "print(\"Concatenated DataFrame:\")\n",
        "print(df_concat)\n"
      ],
      "metadata": {
        "colab": {
          "base_uri": "https://localhost:8080/",
          "height": 0
        },
        "id": "OaIV8YD4IBrr",
        "outputId": "634376de-5773-47e3-f785-7e96fd6d7eb7"
      },
      "execution_count": 13,
      "outputs": [
        {
          "output_type": "stream",
          "name": "stdout",
          "text": [
            "Concatenated DataFrame:\n",
            "   rank         team  rating\n",
            "0     1      England     126\n",
            "1     2        India     121\n",
            "2     3   NewZealand     112\n",
            "3     4  SouthAfrica     111\n",
            "4     1    Australia     102\n",
            "5     2     SriLanka     100\n",
            "6     3     Pakistan      93\n",
            "7     4   WestIndies      79\n"
          ]
        }
      ]
    },
    {
      "cell_type": "markdown",
      "source": [
        "**Task 3**"
      ],
      "metadata": {
        "id": "XvxOX3_mQM-2"
      }
    },
    {
      "cell_type": "markdown",
      "source": [
        "**Ans A.**"
      ],
      "metadata": {
        "id": "bbyhahuqR2yb"
      }
    },
    {
      "cell_type": "markdown",
      "source": [
        "**Inner Join:** An inner join only returns rows (or DataFrames) that match in both tables. Rows that do not match are removed from the results.Example for inner join"
      ],
      "metadata": {
        "id": "Cbiti1YEIntN"
      }
    },
    {
      "cell_type": "code",
      "source": [
        "# DataFrame 1: Employees\n",
        "df1 = pd.DataFrame({\n",
        "    'EmployeeID': [1, 2, 3, 4],\n",
        "    'EmployeeName': ['John', 'Jane', 'Doe', 'Smith']\n",
        "})\n",
        "\n",
        "# DataFrame 2: Departments\n",
        "df2 = pd.DataFrame({\n",
        "    'EmployeeID': [2, 3, 5],\n",
        "    'Department': ['HR', 'IT', 'Finance']\n",
        "})\n",
        "\n",
        "# Inner Join on 'EmployeeID'\n",
        "inner_join = pd.merge(df1, df2, on='EmployeeID', how='inner')\n",
        "\n",
        "print(\"Inner Join:\")\n",
        "print(inner_join)\n"
      ],
      "metadata": {
        "colab": {
          "base_uri": "https://localhost:8080/",
          "height": 0
        },
        "id": "Xu8HVAivKoNW",
        "outputId": "98f64aa8-7f95-41bd-ecba-72707d256c4d"
      },
      "execution_count": 14,
      "outputs": [
        {
          "output_type": "stream",
          "name": "stdout",
          "text": [
            "Inner Join:\n",
            "   EmployeeID EmployeeName Department\n",
            "0           2         Jane         HR\n",
            "1           3          Doe         IT\n"
          ]
        }
      ]
    },
    {
      "cell_type": "markdown",
      "source": [
        "**Outer Join:** An outer join (a full outer join) returns all rows from both tables, with matching rows from both sides where available. If there is no match, NaN (null values) will be inserted to find missing matches.Example for Outer join"
      ],
      "metadata": {
        "id": "wKdldKBvKCP1"
      }
    },
    {
      "cell_type": "code",
      "source": [
        "# Outer Join on 'EmployeeID'\n",
        "outer_join = pd.merge(df1, df2, on='EmployeeID', how='outer')\n",
        "\n",
        "print(\"Outer Join:\")\n",
        "print(outer_join)\n"
      ],
      "metadata": {
        "colab": {
          "base_uri": "https://localhost:8080/",
          "height": 0
        },
        "id": "28D6uq_mKpG3",
        "outputId": "18ccc45a-1fcb-4e05-e2b6-ce40702d4ea2"
      },
      "execution_count": 15,
      "outputs": [
        {
          "output_type": "stream",
          "name": "stdout",
          "text": [
            "Outer Join:\n",
            "   EmployeeID EmployeeName Department\n",
            "0           1         John        NaN\n",
            "1           2         Jane         HR\n",
            "2           3          Doe         IT\n",
            "3           4        Smith        NaN\n",
            "4           5          NaN    Finance\n"
          ]
        }
      ]
    },
    {
      "cell_type": "markdown",
      "source": [
        "**Left Join:** A left join returns all the rows from the left table (the first DataFrame) and the matched rows from the right table (the second DataFrame). If there is no match, NaN is used for missing values on the right table.Example for left join"
      ],
      "metadata": {
        "id": "Wa0OH3mGK8Vy"
      }
    },
    {
      "cell_type": "code",
      "source": [
        "# Left Join on 'EmployeeID'\n",
        "left_join = pd.merge(df1, df2, on='EmployeeID', how='left')\n",
        "\n",
        "print(\"Left Join:\")\n",
        "print(left_join)\n"
      ],
      "metadata": {
        "colab": {
          "base_uri": "https://localhost:8080/",
          "height": 0
        },
        "id": "NTkk5YrBK8m6",
        "outputId": "935a47eb-ed64-4dbe-e8e9-b1abaf957ec3"
      },
      "execution_count": 16,
      "outputs": [
        {
          "output_type": "stream",
          "name": "stdout",
          "text": [
            "Left Join:\n",
            "   EmployeeID EmployeeName Department\n",
            "0           1         John        NaN\n",
            "1           2         Jane         HR\n",
            "2           3          Doe         IT\n",
            "3           4        Smith        NaN\n"
          ]
        }
      ]
    },
    {
      "cell_type": "markdown",
      "source": [
        "**Right Join:**A right join returns all rows from the right table (the second DataFrame) and the matched rows from the left table (the first DataFrame). If there is no match, NaN is used for missing values on the left table.Example of Right Join\n"
      ],
      "metadata": {
        "id": "n9kLsODVLmAd"
      }
    },
    {
      "cell_type": "code",
      "source": [
        "# Right Join on 'EmployeeID'\n",
        "right_join = pd.merge(df1, df2, on='EmployeeID', how='right')\n",
        "\n",
        "print(\"Right Join:\")\n",
        "print(right_join)\n"
      ],
      "metadata": {
        "colab": {
          "base_uri": "https://localhost:8080/"
        },
        "id": "bnoKg18yMbD3",
        "outputId": "754ab36b-72f4-4d30-f1a2-0cfb7fc7b7a0"
      },
      "execution_count": null,
      "outputs": [
        {
          "output_type": "stream",
          "name": "stdout",
          "text": [
            "Right Join:\n",
            "   EmployeeID EmployeeName Department\n",
            "0           2         Jane         HR\n",
            "1           3          Doe         IT\n",
            "2           5          NaN    Finance\n"
          ]
        }
      ]
    },
    {
      "cell_type": "markdown",
      "source": [
        "**Ans B** Image of Different Joins\n"
      ],
      "metadata": {
        "id": "7-T8n44JQN1q"
      }
    },
    {
      "cell_type": "code",
      "source": [
        "image_path = 'sample_data/join.png'\n",
        "\n",
        "# Load the image\n",
        "image = mpimg.imread(image_path)\n",
        "\n",
        "# Display the image\n",
        "plt.imshow(image)\n",
        "plt.axis('off')  # Hide axes for a cleaner look\n",
        "plt.show()"
      ],
      "metadata": {
        "colab": {
          "base_uri": "https://localhost:8080/",
          "height": 308
        },
        "id": "HoFt4d2tXH8T",
        "outputId": "78d497cd-a824-4fb9-c051-56016e660b83"
      },
      "execution_count": 3,
      "outputs": [
        {
          "output_type": "display_data",
          "data": {
            "text/plain": [
              "<Figure size 640x480 with 1 Axes>"
            ],
            "image/png": "[encoded data removed]"
          },
          "metadata": {}
        }
      ]
    },
    {
      "cell_type": "markdown",
      "source": [
        "**Ans C** Two different data frames With outer, right, left and inner joins between them"
      ],
      "metadata": {
        "id": "GCVWN14FQOxO"
      }
    },
    {
      "cell_type": "code",
      "source": [
        "# Creating the two dataframes\n",
        "df1 = pd.DataFrame({\n",
        "    'rank': [1, 2, 3, 4, 5, 6, 7, 8],\n",
        "    'team': ['England', 'India', 'NewZealand', 'SouthAfrica', 'Pakistan', 'Australia', 'Bangladesh', 'SriLanka'],\n",
        "    'rating': [126, 121, 112, 111, 102, 100, 93, 79]\n",
        "})\n",
        "\n",
        "df2 = pd.DataFrame({\n",
        "    'rank': [1, 2, 3, 4, 5, 6, 7, 8],\n",
        "    'team': ['India', 'England', 'SouthAfrica', 'NewZealand', 'Australia', 'SriLanka', 'Pakistan', 'WestIndies'],\n",
        "    'rating': [126, 121, 112, 111, 102, 100, 93, 79]\n",
        "})\n",
        "\n",
        "# 1. Inner Join: Returns only the rows where there is a match in both dataframes\n",
        "inner_join = pd.merge(df1, df2, on=\"team\", how=\"inner\", suffixes=('_df1', '_df2'))\n",
        "print(\"Inner Join:\\n\", inner_join)\n",
        "\n",
        "# 2. Outer Join: Returns all rows when there is a match in either dataframe\n",
        "outer_join = pd.merge(df1, df2, on=\"team\", how=\"outer\", suffixes=('_df1', '_df2'))\n",
        "print(\"\\nOuter Join:\\n\", outer_join)\n",
        "\n",
        "# 3. Left Join: Returns all rows from the left dataframe, with matching rows from the right dataframe\n",
        "left_join = pd.merge(df1, df2, on=\"team\", how=\"left\", suffixes=('_df1', '_df2'))\n",
        "print(\"\\nLeft Join:\\n\", left_join)\n",
        "\n",
        "# 4. Right Join: Returns all rows from the right dataframe, with matching rows from the left dataframe\n",
        "right_join = pd.merge(df1, df2, on=\"team\", how=\"right\", suffixes=('_df1', '_df2'))\n",
        "print(\"\\nRight Join:\\n\", right_join)\n"
      ],
      "metadata": {
        "colab": {
          "base_uri": "https://localhost:8080/"
        },
        "id": "AgsefiukQPc2",
        "outputId": "c6a205e7-d556-4a7a-e8c8-7e735c84b242"
      },
      "execution_count": null,
      "outputs": [
        {
          "output_type": "stream",
          "name": "stdout",
          "text": [
            "Inner Join:\n",
            "    rank_df1         team  rating_df1  rank_df2  rating_df2\n",
            "0         1      England         126         2         121\n",
            "1         2        India         121         1         126\n",
            "2         3   NewZealand         112         4         111\n",
            "3         4  SouthAfrica         111         3         112\n",
            "4         5     Pakistan         102         7          93\n",
            "5         6    Australia         100         5         102\n",
            "6         8     SriLanka          79         6         100\n",
            "\n",
            "Outer Join:\n",
            "    rank_df1         team  rating_df1  rank_df2  rating_df2\n",
            "0       6.0    Australia       100.0       5.0       102.0\n",
            "1       7.0   Bangladesh        93.0       NaN         NaN\n",
            "2       1.0      England       126.0       2.0       121.0\n",
            "3       2.0        India       121.0       1.0       126.0\n",
            "4       3.0   NewZealand       112.0       4.0       111.0\n",
            "5       5.0     Pakistan       102.0       7.0        93.0\n",
            "6       4.0  SouthAfrica       111.0       3.0       112.0\n",
            "7       8.0     SriLanka        79.0       6.0       100.0\n",
            "8       NaN   WestIndies         NaN       8.0        79.0\n",
            "\n",
            "Left Join:\n",
            "    rank_df1         team  rating_df1  rank_df2  rating_df2\n",
            "0         1      England         126       2.0       121.0\n",
            "1         2        India         121       1.0       126.0\n",
            "2         3   NewZealand         112       4.0       111.0\n",
            "3         4  SouthAfrica         111       3.0       112.0\n",
            "4         5     Pakistan         102       7.0        93.0\n",
            "5         6    Australia         100       5.0       102.0\n",
            "6         7   Bangladesh          93       NaN         NaN\n",
            "7         8     SriLanka          79       6.0       100.0\n",
            "\n",
            "Right Join:\n",
            "    rank_df1         team  rating_df1  rank_df2  rating_df2\n",
            "0       2.0        India       121.0         1         126\n",
            "1       1.0      England       126.0         2         121\n",
            "2       4.0  SouthAfrica       111.0         3         112\n",
            "3       3.0   NewZealand       112.0         4         111\n",
            "4       6.0    Australia       100.0         5         102\n",
            "5       8.0     SriLanka        79.0         6         100\n",
            "6       5.0     Pakistan       102.0         7          93\n",
            "7       NaN   WestIndies         NaN         8          79\n"
          ]
        }
      ]
    },
    {
      "cell_type": "markdown",
      "source": [
        "Explanation:All rows from the right dataframe (df2) are returned via the right join along with corresponding rows from the left dataframe (df1). When no match is discovered (such as in the West Indies), NaN is applied to the df1 missing data."
      ],
      "metadata": {
        "id": "lMawy9A-RCIT"
      }
    }
  ]
}