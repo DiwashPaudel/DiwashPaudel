{
  "nbformat": 4,
  "nbformat_minor": 0,
  "metadata": {
    "colab": {
      "provenance": [],
      "authorship_tag": "ABX9TyPTeWlvbPi/aZm8wFfSpiBd",
      "include_colab_link": true
    },
    "kernelspec": {
      "name": "python3",
      "display_name": "Python 3"
    },
    "language_info": {
      "name": "python"
    }
  },
  "cells": [
    {
      "cell_type": "markdown",
      "metadata": {
        "id": "view-in-github",
        "colab_type": "text"
      },
      "source": [
        "<a href=\"https://colab.research.google.com/github/DiwashPaudel/DiwashPaudel/blob/main/Assesment2.ipynb\" target=\"_parent\"><img src=\"https://colab.research.google.com/assets/colab-badge.svg\" alt=\"Open In Colab\"/></a>"
      ]
    },
    {
      "cell_type": "markdown",
      "source": [
        "**Data Processing with Python, Numpy Pandas, and Matplotlib Libraries**"
      ],
      "metadata": {
        "id": "iJIH2JkB3Bk_"
      }
    },
    {
      "cell_type": "markdown",
      "source": [
        "COVID-19 Data Analysis Exploring COVID-19 Deaths Data\n",
        "\n"
      ],
      "metadata": {
        "id": "4HuzNN6ihEYm"
      }
    },
    {
      "cell_type": "markdown",
      "source": [
        "**Task 2**"
      ],
      "metadata": {
        "id": "_B-RWHTX7dci"
      }
    },
    {
      "cell_type": "code",
      "execution_count": null,
      "metadata": {
        "id": "REJuTo0zfSbe"
      },
      "outputs": [],
      "source": [
        "# Importing necessary libraries\n",
        "import numpy as np\n",
        "import pandas as pd\n",
        "import matplotlib.pyplot as plt\n",
        "#two ways to load data either from the file or url\n",
        "# Loading the dataset from thr github URL\n",
        "url = 'https://raw.githubusercontent.com/CSSEGISandData/COVID-19/master/csse_covid_19_data/csse_covid_19_time_series/time_series_covid19_deaths_global.csv'\n",
        "deaths_df = pd.read_csv(url)\n",
        "##Reading a data from a file\n",
        "#deaths_df = pd.read_csv('sample_data/time_series_covid19_deaths_global.csv')"
      ]
    },
    {
      "cell_type": "markdown",
      "source": [
        "Displaying First FIve rows of data"
      ],
      "metadata": {
        "id": "NHPHsQDCMiAT"
      }
    },
    {
      "cell_type": "code",
      "source": [
        "deaths_df.head()"
      ],
      "metadata": {
        "colab": {
          "base_uri": "https://localhost:8080/",
          "height": 146
        },
        "id": "zNkXfWvqMgxf",
        "outputId": "f45a8543-b287-4f66-a1ee-c371df47e792"
      },
      "execution_count": 3,
      "outputs": [
        {
          "output_type": "error",
          "ename": "NameError",
          "evalue": "name 'deaths_df' is not defined",
          "traceback": [
            "\u001b[0;31m---------------------------------------------------------------------------\u001b[0m",
            "\u001b[0;31mNameError\u001b[0m                                 Traceback (most recent call last)",
            "\u001b[0;32m<ipython-input-3-eda65ef08bb5>\u001b[0m in \u001b[0;36m<cell line: 1>\u001b[0;34m()\u001b[0m\n\u001b[0;32m----> 1\u001b[0;31m \u001b[0mdeaths_df\u001b[0m\u001b[0;34m.\u001b[0m\u001b[0mhead\u001b[0m\u001b[0;34m(\u001b[0m\u001b[0;34m)\u001b[0m\u001b[0;34m\u001b[0m\u001b[0;34m\u001b[0m\u001b[0m\n\u001b[0m",
            "\u001b[0;31mNameError\u001b[0m: name 'deaths_df' is not defined"
          ]
        }
      ]
    },
    {
      "cell_type": "markdown",
      "source": [
        "**Steps of Data Cleaning and Preparation**\n",
        "\n",
        "1. Identifying and Handling Missing Values\n",
        "2. Removing Duplicate Entries\n",
        "3. Converting Date Column to Consistent Date Format\n",
        "4. Saving the Cleaned Dataset"
      ],
      "metadata": {
        "id": "s6D8pIp1ik98"
      }
    },
    {
      "cell_type": "markdown",
      "source": [
        "Step 1:Identify and handle missing values"
      ],
      "metadata": {
        "id": "hif8sLb54Hcj"
      }
    },
    {
      "cell_type": "code",
      "source": [
        "# Counting total number of null value ina file\n",
        "print(\"Missing values in each column:\\n\", deaths_df.isnull().sum())\n",
        "\n",
        "# Handling missing values - Filling with 0\n",
        "deaths_df.fillna(0, inplace=True)"
      ],
      "metadata": {
        "colab": {
          "base_uri": "https://localhost:8080/"
        },
        "id": "oKhjW7smimcD",
        "outputId": "9adda276-cbda-4b02-a767-ed4c51d9f418"
      },
      "execution_count": null,
      "outputs": [
        {
          "output_type": "stream",
          "name": "stdout",
          "text": [
            "Missing values in each column:\n",
            " Province/State    198\n",
            "Country/Region      0\n",
            "Lat                 2\n",
            "Long                2\n",
            "1/22/20             0\n",
            "                 ... \n",
            "3/5/23              0\n",
            "3/6/23              0\n",
            "3/7/23              0\n",
            "3/8/23              0\n",
            "3/9/23              0\n",
            "Length: 1147, dtype: int64\n"
          ]
        }
      ]
    },
    {
      "cell_type": "markdown",
      "source": [
        "Step 2: Removing duplicate entries  \n"
      ],
      "metadata": {
        "id": "WNwaqQX-5Dcm"
      }
    },
    {
      "cell_type": "code",
      "source": [
        "deaths_df.drop_duplicates(inplace=True)  # Removing duplicate rows\n",
        "print(\"Data After Rmoving Duplicate rows.\",deaths_df.head())"
      ],
      "metadata": {
        "id": "KA30k29Z5M4C",
        "colab": {
          "base_uri": "https://localhost:8080/",
          "height": 164
        },
        "outputId": "d4f3d697-45d5-4537-a22c-bcc2a0108b21"
      },
      "execution_count": 2,
      "outputs": [
        {
          "output_type": "error",
          "ename": "NameError",
          "evalue": "name 'deaths_df' is not defined",
          "traceback": [
            "\u001b[0;31m---------------------------------------------------------------------------\u001b[0m",
            "\u001b[0;31mNameError\u001b[0m                                 Traceback (most recent call last)",
            "\u001b[0;32m<ipython-input-2-60c7678b2a9e>\u001b[0m in \u001b[0;36m<cell line: 1>\u001b[0;34m()\u001b[0m\n\u001b[0;32m----> 1\u001b[0;31m \u001b[0mdeaths_df\u001b[0m\u001b[0;34m.\u001b[0m\u001b[0mdrop_duplicates\u001b[0m\u001b[0;34m(\u001b[0m\u001b[0minplace\u001b[0m\u001b[0;34m=\u001b[0m\u001b[0;32mTrue\u001b[0m\u001b[0;34m)\u001b[0m  \u001b[0;31m# Removing duplicate rows\u001b[0m\u001b[0;34m\u001b[0m\u001b[0;34m\u001b[0m\u001b[0m\n\u001b[0m\u001b[1;32m      2\u001b[0m \u001b[0mprint\u001b[0m\u001b[0;34m(\u001b[0m\u001b[0;34m\"Data After Rmoving Duplicate rows.\"\u001b[0m\u001b[0;34m,\u001b[0m\u001b[0mdeaths_df\u001b[0m\u001b[0;34m.\u001b[0m\u001b[0mhead\u001b[0m\u001b[0;34m(\u001b[0m\u001b[0;34m)\u001b[0m\u001b[0;34m)\u001b[0m\u001b[0;34m\u001b[0m\u001b[0;34m\u001b[0m\u001b[0m\n",
            "\u001b[0;31mNameError\u001b[0m: name 'deaths_df' is not defined"
          ]
        }
      ]
    },
    {
      "cell_type": "markdown",
      "source": [
        "Step 3: Convert the date columns to a (YYYY-MM_DD)date format  \n"
      ],
      "metadata": {
        "id": "icvoazqg5bjp"
      }
    },
    {
      "cell_type": "code",
      "source": [
        "deaths_df.columns = deaths_df.columns.str.replace(' ', '_')  # Replacing spaces with underscores\n",
        "date_columns = deaths_df.columns[4:]  # All columns after the first four are date columns\n",
        "# Convert columns to datetime format\n",
        "for col in date_columns:\n",
        "    deaths_df[col] = pd.to_datetime(col)"
      ],
      "metadata": {
        "id": "j9miXbHb5iE5"
      },
      "execution_count": null,
      "outputs": []
    },
    {
      "cell_type": "markdown",
      "source": [
        "Step 4: Saving the cleaned dataset to a new CSV file  "
      ],
      "metadata": {
        "id": "8pSjPqgS6iQP"
      }
    },
    {
      "cell_type": "code",
      "source": [
        "#cleaning and saving in cleaned_covid19_deaths_global.csv file in sample folder\n",
        "deaths_df.to_csv('cleaned_covid19_deaths_global.csv', index=False)"
      ],
      "metadata": {
        "id": "p4cvzrXJ59qd"
      },
      "execution_count": null,
      "outputs": []
    },
    {
      "cell_type": "code",
      "source": [],
      "metadata": {
        "id": "637VOkY9754L"
      },
      "execution_count": null,
      "outputs": []
    },
    {
      "cell_type": "markdown",
      "source": [
        "**Task 3**\n"
      ],
      "metadata": {
        "id": "nztwRaOQ71qF"
      }
    },
    {
      "cell_type": "markdown",
      "source": [
        "Displaying First 5 Rows using Head Function"
      ],
      "metadata": {
        "id": "FVkaeDvh8J8e"
      }
    },
    {
      "cell_type": "code",
      "source": [
        "# Display the first 5 rows of the loaded data\n",
        "print(deaths_df.head())"
      ],
      "metadata": {
        "colab": {
          "base_uri": "https://localhost:8080/"
        },
        "id": "-SsnbIApiswG",
        "outputId": "12592a5e-8829-4511-cb82-4d7f333b6b17"
      },
      "execution_count": null,
      "outputs": [
        {
          "output_type": "stream",
          "name": "stdout",
          "text": [
            "  Province/State Country/Region       Lat       Long    1/22/20    1/23/20  \\\n",
            "0              0    Afghanistan  33.93911  67.709953 2020-01-22 2020-01-23   \n",
            "1              0        Albania  41.15330  20.168300 2020-01-22 2020-01-23   \n",
            "2              0        Algeria  28.03390   1.659600 2020-01-22 2020-01-23   \n",
            "3              0        Andorra  42.50630   1.521800 2020-01-22 2020-01-23   \n",
            "4              0         Angola -11.20270  17.873900 2020-01-22 2020-01-23   \n",
            "\n",
            "     1/24/20    1/25/20    1/26/20    1/27/20  ...    2/28/23     3/1/23  \\\n",
            "0 2020-01-24 2020-01-25 2020-01-26 2020-01-27  ... 2023-02-28 2023-03-01   \n",
            "1 2020-01-24 2020-01-25 2020-01-26 2020-01-27  ... 2023-02-28 2023-03-01   \n",
            "2 2020-01-24 2020-01-25 2020-01-26 2020-01-27  ... 2023-02-28 2023-03-01   \n",
            "3 2020-01-24 2020-01-25 2020-01-26 2020-01-27  ... 2023-02-28 2023-03-01   \n",
            "4 2020-01-24 2020-01-25 2020-01-26 2020-01-27  ... 2023-02-28 2023-03-01   \n",
            "\n",
            "      3/2/23     3/3/23     3/4/23     3/5/23     3/6/23     3/7/23  \\\n",
            "0 2023-03-02 2023-03-03 2023-03-04 2023-03-05 2023-03-06 2023-03-07   \n",
            "1 2023-03-02 2023-03-03 2023-03-04 2023-03-05 2023-03-06 2023-03-07   \n",
            "2 2023-03-02 2023-03-03 2023-03-04 2023-03-05 2023-03-06 2023-03-07   \n",
            "3 2023-03-02 2023-03-03 2023-03-04 2023-03-05 2023-03-06 2023-03-07   \n",
            "4 2023-03-02 2023-03-03 2023-03-04 2023-03-05 2023-03-06 2023-03-07   \n",
            "\n",
            "      3/8/23     3/9/23  \n",
            "0 2023-03-08 2023-03-09  \n",
            "1 2023-03-08 2023-03-09  \n",
            "2 2023-03-08 2023-03-09  \n",
            "3 2023-03-08 2023-03-09  \n",
            "4 2023-03-08 2023-03-09  \n",
            "\n",
            "[5 rows x 1147 columns]\n"
          ]
        }
      ]
    },
    {
      "cell_type": "markdown",
      "source": [
        "Summary of the data using describr function"
      ],
      "metadata": {
        "id": "uh3qKgN78zQh"
      }
    },
    {
      "cell_type": "code",
      "source": [
        "# Short summary about the data\n",
        "data_summary = deaths_df.describe()\n",
        "print(\"\\nData Summary:\\n\", data_summary)"
      ],
      "metadata": {
        "colab": {
          "base_uri": "https://localhost:8080/"
        },
        "id": "DWwWekzN8yyn",
        "outputId": "b79dda80-6e05-4cb2-d363-67bb416f0334"
      },
      "execution_count": null,
      "outputs": [
        {
          "output_type": "stream",
          "name": "stdout",
          "text": [
            "\n",
            "Data Summary:\n",
            "               Lat        Long            1/22/2020            1/23/2020  \\\n",
            "count  289.000000  289.000000                  289                  289   \n",
            "mean    19.582257   22.028574  2020-01-22 00:00:00  2020-01-23 00:00:00   \n",
            "min    -71.949900 -178.116500  2020-01-22 00:00:00  2020-01-23 00:00:00   \n",
            "25%      3.919300  -23.041800  2020-01-22 00:00:00  2020-01-23 00:00:00   \n",
            "50%     21.007900   20.902977  2020-01-22 00:00:00  2020-01-23 00:00:00   \n",
            "75%     40.339900   88.092400  2020-01-22 00:00:00  2020-01-23 00:00:00   \n",
            "max     71.706900  178.065000  2020-01-22 00:00:00  2020-01-23 00:00:00   \n",
            "std     25.918107   77.621936                  NaN                  NaN   \n",
            "\n",
            "                 1/24/2020            1/25/2020            1/26/2020  \\\n",
            "count                  289                  289                  289   \n",
            "mean   2020-01-24 00:00:00  2020-01-25 00:00:00  2020-01-26 00:00:00   \n",
            "min    2020-01-24 00:00:00  2020-01-25 00:00:00  2020-01-26 00:00:00   \n",
            "25%    2020-01-24 00:00:00  2020-01-25 00:00:00  2020-01-26 00:00:00   \n",
            "50%    2020-01-24 00:00:00  2020-01-25 00:00:00  2020-01-26 00:00:00   \n",
            "75%    2020-01-24 00:00:00  2020-01-25 00:00:00  2020-01-26 00:00:00   \n",
            "max    2020-01-24 00:00:00  2020-01-25 00:00:00  2020-01-26 00:00:00   \n",
            "std                    NaN                  NaN                  NaN   \n",
            "\n",
            "                 1/27/2020            1/28/2020            1/29/2020  ...  \\\n",
            "count                  289                  289                  289  ...   \n",
            "mean   2020-01-27 00:00:00  2020-01-28 00:00:00  2020-01-29 00:00:00  ...   \n",
            "min    2020-01-27 00:00:00  2020-01-28 00:00:00  2020-01-29 00:00:00  ...   \n",
            "25%    2020-01-27 00:00:00  2020-01-28 00:00:00  2020-01-29 00:00:00  ...   \n",
            "50%    2020-01-27 00:00:00  2020-01-28 00:00:00  2020-01-29 00:00:00  ...   \n",
            "75%    2020-01-27 00:00:00  2020-01-28 00:00:00  2020-01-29 00:00:00  ...   \n",
            "max    2020-01-27 00:00:00  2020-01-28 00:00:00  2020-01-29 00:00:00  ...   \n",
            "std                    NaN                  NaN                  NaN  ...   \n",
            "\n",
            "                 2/28/2023             3/1/2023             3/2/2023  \\\n",
            "count                  289                  289                  289   \n",
            "mean   2023-02-28 00:00:00  2023-03-01 00:00:00  2023-03-02 00:00:00   \n",
            "min    2023-02-28 00:00:00  2023-03-01 00:00:00  2023-03-02 00:00:00   \n",
            "25%    2023-02-28 00:00:00  2023-03-01 00:00:00  2023-03-02 00:00:00   \n",
            "50%    2023-02-28 00:00:00  2023-03-01 00:00:00  2023-03-02 00:00:00   \n",
            "75%    2023-02-28 00:00:00  2023-03-01 00:00:00  2023-03-02 00:00:00   \n",
            "max    2023-02-28 00:00:00  2023-03-01 00:00:00  2023-03-02 00:00:00   \n",
            "std                    NaN                  NaN                  NaN   \n",
            "\n",
            "                  3/3/2023             3/4/2023             3/5/2023  \\\n",
            "count                  289                  289                  289   \n",
            "mean   2023-03-03 00:00:00  2023-03-04 00:00:00  2023-03-05 00:00:00   \n",
            "min    2023-03-03 00:00:00  2023-03-04 00:00:00  2023-03-05 00:00:00   \n",
            "25%    2023-03-03 00:00:00  2023-03-04 00:00:00  2023-03-05 00:00:00   \n",
            "50%    2023-03-03 00:00:00  2023-03-04 00:00:00  2023-03-05 00:00:00   \n",
            "75%    2023-03-03 00:00:00  2023-03-04 00:00:00  2023-03-05 00:00:00   \n",
            "max    2023-03-03 00:00:00  2023-03-04 00:00:00  2023-03-05 00:00:00   \n",
            "std                    NaN                  NaN                  NaN   \n",
            "\n",
            "                  3/6/2023             3/7/2023             3/8/2023  \\\n",
            "count                  289                  289                  289   \n",
            "mean   2023-03-06 00:00:00  2023-03-07 00:00:00  2023-03-08 00:00:00   \n",
            "min    2023-03-06 00:00:00  2023-03-07 00:00:00  2023-03-08 00:00:00   \n",
            "25%    2023-03-06 00:00:00  2023-03-07 00:00:00  2023-03-08 00:00:00   \n",
            "50%    2023-03-06 00:00:00  2023-03-07 00:00:00  2023-03-08 00:00:00   \n",
            "75%    2023-03-06 00:00:00  2023-03-07 00:00:00  2023-03-08 00:00:00   \n",
            "max    2023-03-06 00:00:00  2023-03-07 00:00:00  2023-03-08 00:00:00   \n",
            "std                    NaN                  NaN                  NaN   \n",
            "\n",
            "                  3/9/2023  \n",
            "count                  289  \n",
            "mean   2023-03-09 00:00:00  \n",
            "min    2023-03-09 00:00:00  \n",
            "25%    2023-03-09 00:00:00  \n",
            "50%    2023-03-09 00:00:00  \n",
            "75%    2023-03-09 00:00:00  \n",
            "max    2023-03-09 00:00:00  \n",
            "std                    NaN  \n",
            "\n",
            "[8 rows x 1145 columns]\n"
          ]
        }
      ]
    },
    {
      "cell_type": "code",
      "source": [],
      "metadata": {
        "id": "8mckDpbc9NRW"
      },
      "execution_count": null,
      "outputs": []
    },
    {
      "cell_type": "markdown",
      "source": [
        "**Task 4**"
      ],
      "metadata": {
        "id": "Epmi-ZsCi1K0"
      }
    },
    {
      "cell_type": "markdown",
      "source": [
        "Calculating Mean and Median"
      ],
      "metadata": {
        "id": "T6MNDaoP9UsX"
      }
    },
    {
      "cell_type": "code",
      "source": [
        "# Step to calculate daily deaths\n",
        "# We need to calculate the daily deaths by subtracting the previous day's total from the current day's total\n",
        "\n",
        "# Calculate daily deaths by taking the difference between consecutive days\n",
        "daily_deaths = deaths_df[date_columns].diff(axis=1).fillna(0)\n",
        "\n",
        "# Sum the daily deaths across all countries for each day\n",
        "total_daily_deaths = daily_deaths.sum(axis=0)\n",
        "\n",
        "# Calculate mean and median of the daily cases\n",
        "mean_daily_deaths = total_daily_deaths.mean()\n",
        "median_daily_deaths = total_daily_deaths.median()\n",
        "\n",
        "print(f\"Mean Daily Deaths: {mean_daily_deaths}\")\n",
        "print(f\"Median Daily Deaths: {median_daily_deaths}\")"
      ],
      "metadata": {
        "colab": {
          "base_uri": "https://localhost:8080/",
          "height": 444
        },
        "id": "MXnCx5bei2ci",
        "outputId": "fb99e56b-1c3c-42e3-bf46-e40045e268ad"
      },
      "execution_count": null,
      "outputs": [
        {
          "output_type": "stream",
          "name": "stderr",
          "text": [
            "<ipython-input-31-e883f4a9ee47>:5: PerformanceWarning: DataFrame is highly fragmented.  This is usually the result of calling `frame.insert` many times, which has poor performance.  Consider joining all columns at once using pd.concat(axis=1) instead. To get a de-fragmented frame, use `newframe = frame.copy()`\n",
            "  daily_deaths = deaths_df[date_columns].diff(axis=1).fillna(0)\n"
          ]
        },
        {
          "output_type": "error",
          "ename": "TypeError",
          "evalue": "unsupported operand type(s) for +: 'numpy.int64' and 'Timedelta'",
          "traceback": [
            "\u001b[0;31m---------------------------------------------------------------------------\u001b[0m",
            "\u001b[0;31mTypeError\u001b[0m                                 Traceback (most recent call last)",
            "\u001b[0;32m<ipython-input-31-e883f4a9ee47>\u001b[0m in \u001b[0;36m<cell line: 11>\u001b[0;34m()\u001b[0m\n\u001b[1;32m      9\u001b[0m \u001b[0;34m\u001b[0m\u001b[0m\n\u001b[1;32m     10\u001b[0m \u001b[0;31m# Calculate mean and median of the daily cases\u001b[0m\u001b[0;34m\u001b[0m\u001b[0;34m\u001b[0m\u001b[0m\n\u001b[0;32m---> 11\u001b[0;31m \u001b[0mmean_daily_deaths\u001b[0m \u001b[0;34m=\u001b[0m \u001b[0mtotal_daily_deaths\u001b[0m\u001b[0;34m.\u001b[0m\u001b[0mmean\u001b[0m\u001b[0;34m(\u001b[0m\u001b[0;34m)\u001b[0m\u001b[0;34m\u001b[0m\u001b[0;34m\u001b[0m\u001b[0m\n\u001b[0m\u001b[1;32m     12\u001b[0m \u001b[0mmedian_daily_deaths\u001b[0m \u001b[0;34m=\u001b[0m \u001b[0mtotal_daily_deaths\u001b[0m\u001b[0;34m.\u001b[0m\u001b[0mmedian\u001b[0m\u001b[0;34m(\u001b[0m\u001b[0;34m)\u001b[0m\u001b[0;34m\u001b[0m\u001b[0;34m\u001b[0m\u001b[0m\n\u001b[1;32m     13\u001b[0m \u001b[0;34m\u001b[0m\u001b[0m\n",
            "\u001b[0;32m/usr/local/lib/python3.10/dist-packages/pandas/core/series.py\u001b[0m in \u001b[0;36mmean\u001b[0;34m(self, axis, skipna, numeric_only, **kwargs)\u001b[0m\n\u001b[1;32m   6223\u001b[0m         \u001b[0;34m**\u001b[0m\u001b[0mkwargs\u001b[0m\u001b[0;34m,\u001b[0m\u001b[0;34m\u001b[0m\u001b[0;34m\u001b[0m\u001b[0m\n\u001b[1;32m   6224\u001b[0m     ):\n\u001b[0;32m-> 6225\u001b[0;31m         \u001b[0;32mreturn\u001b[0m \u001b[0mNDFrame\u001b[0m\u001b[0;34m.\u001b[0m\u001b[0mmean\u001b[0m\u001b[0;34m(\u001b[0m\u001b[0mself\u001b[0m\u001b[0;34m,\u001b[0m \u001b[0maxis\u001b[0m\u001b[0;34m,\u001b[0m \u001b[0mskipna\u001b[0m\u001b[0;34m,\u001b[0m \u001b[0mnumeric_only\u001b[0m\u001b[0;34m,\u001b[0m \u001b[0;34m**\u001b[0m\u001b[0mkwargs\u001b[0m\u001b[0;34m)\u001b[0m\u001b[0;34m\u001b[0m\u001b[0;34m\u001b[0m\u001b[0m\n\u001b[0m\u001b[1;32m   6226\u001b[0m \u001b[0;34m\u001b[0m\u001b[0m\n\u001b[1;32m   6227\u001b[0m     \u001b[0;34m@\u001b[0m\u001b[0mdoc\u001b[0m\u001b[0;34m(\u001b[0m\u001b[0mmake_doc\u001b[0m\u001b[0;34m(\u001b[0m\u001b[0;34m\"median\"\u001b[0m\u001b[0;34m,\u001b[0m \u001b[0mndim\u001b[0m\u001b[0;34m=\u001b[0m\u001b[0;36m1\u001b[0m\u001b[0;34m)\u001b[0m\u001b[0;34m)\u001b[0m\u001b[0;34m\u001b[0m\u001b[0;34m\u001b[0m\u001b[0m\n",
            "\u001b[0;32m/usr/local/lib/python3.10/dist-packages/pandas/core/generic.py\u001b[0m in \u001b[0;36mmean\u001b[0;34m(self, axis, skipna, numeric_only, **kwargs)\u001b[0m\n\u001b[1;32m  11990\u001b[0m         \u001b[0;34m**\u001b[0m\u001b[0mkwargs\u001b[0m\u001b[0;34m,\u001b[0m\u001b[0;34m\u001b[0m\u001b[0;34m\u001b[0m\u001b[0m\n\u001b[1;32m  11991\u001b[0m     ) -> Series | float:\n\u001b[0;32m> 11992\u001b[0;31m         return self._stat_function(\n\u001b[0m\u001b[1;32m  11993\u001b[0m             \u001b[0;34m\"mean\"\u001b[0m\u001b[0;34m,\u001b[0m \u001b[0mnanops\u001b[0m\u001b[0;34m.\u001b[0m\u001b[0mnanmean\u001b[0m\u001b[0;34m,\u001b[0m \u001b[0maxis\u001b[0m\u001b[0;34m,\u001b[0m \u001b[0mskipna\u001b[0m\u001b[0;34m,\u001b[0m \u001b[0mnumeric_only\u001b[0m\u001b[0;34m,\u001b[0m \u001b[0;34m**\u001b[0m\u001b[0mkwargs\u001b[0m\u001b[0;34m\u001b[0m\u001b[0;34m\u001b[0m\u001b[0m\n\u001b[1;32m  11994\u001b[0m         )\n",
            "\u001b[0;32m/usr/local/lib/python3.10/dist-packages/pandas/core/generic.py\u001b[0m in \u001b[0;36m_stat_function\u001b[0;34m(self, name, func, axis, skipna, numeric_only, **kwargs)\u001b[0m\n\u001b[1;32m  11947\u001b[0m         \u001b[0mvalidate_bool_kwarg\u001b[0m\u001b[0;34m(\u001b[0m\u001b[0mskipna\u001b[0m\u001b[0;34m,\u001b[0m \u001b[0;34m\"skipna\"\u001b[0m\u001b[0;34m,\u001b[0m \u001b[0mnone_allowed\u001b[0m\u001b[0;34m=\u001b[0m\u001b[0;32mFalse\u001b[0m\u001b[0;34m)\u001b[0m\u001b[0;34m\u001b[0m\u001b[0;34m\u001b[0m\u001b[0m\n\u001b[1;32m  11948\u001b[0m \u001b[0;34m\u001b[0m\u001b[0m\n\u001b[0;32m> 11949\u001b[0;31m         return self._reduce(\n\u001b[0m\u001b[1;32m  11950\u001b[0m             \u001b[0mfunc\u001b[0m\u001b[0;34m,\u001b[0m \u001b[0mname\u001b[0m\u001b[0;34m=\u001b[0m\u001b[0mname\u001b[0m\u001b[0;34m,\u001b[0m \u001b[0maxis\u001b[0m\u001b[0;34m=\u001b[0m\u001b[0maxis\u001b[0m\u001b[0;34m,\u001b[0m \u001b[0mskipna\u001b[0m\u001b[0;34m=\u001b[0m\u001b[0mskipna\u001b[0m\u001b[0;34m,\u001b[0m \u001b[0mnumeric_only\u001b[0m\u001b[0;34m=\u001b[0m\u001b[0mnumeric_only\u001b[0m\u001b[0;34m\u001b[0m\u001b[0;34m\u001b[0m\u001b[0m\n\u001b[1;32m  11951\u001b[0m         )\n",
            "\u001b[0;32m/usr/local/lib/python3.10/dist-packages/pandas/core/series.py\u001b[0m in \u001b[0;36m_reduce\u001b[0;34m(self, op, name, axis, skipna, numeric_only, filter_type, **kwds)\u001b[0m\n\u001b[1;32m   6131\u001b[0m                     \u001b[0;34m\"with non-numeric dtypes.\"\u001b[0m\u001b[0;34m\u001b[0m\u001b[0;34m\u001b[0m\u001b[0m\n\u001b[1;32m   6132\u001b[0m                 )\n\u001b[0;32m-> 6133\u001b[0;31m             \u001b[0;32mreturn\u001b[0m \u001b[0mop\u001b[0m\u001b[0;34m(\u001b[0m\u001b[0mdelegate\u001b[0m\u001b[0;34m,\u001b[0m \u001b[0mskipna\u001b[0m\u001b[0;34m=\u001b[0m\u001b[0mskipna\u001b[0m\u001b[0;34m,\u001b[0m \u001b[0;34m**\u001b[0m\u001b[0mkwds\u001b[0m\u001b[0;34m)\u001b[0m\u001b[0;34m\u001b[0m\u001b[0;34m\u001b[0m\u001b[0m\n\u001b[0m\u001b[1;32m   6134\u001b[0m \u001b[0;34m\u001b[0m\u001b[0m\n\u001b[1;32m   6135\u001b[0m     \u001b[0;34m@\u001b[0m\u001b[0mAppender\u001b[0m\u001b[0;34m(\u001b[0m\u001b[0mmake_doc\u001b[0m\u001b[0;34m(\u001b[0m\u001b[0;34m\"any\"\u001b[0m\u001b[0;34m,\u001b[0m \u001b[0mndim\u001b[0m\u001b[0;34m=\u001b[0m\u001b[0;36m1\u001b[0m\u001b[0;34m)\u001b[0m\u001b[0;34m)\u001b[0m\u001b[0;34m\u001b[0m\u001b[0;34m\u001b[0m\u001b[0m\n",
            "\u001b[0;32m/usr/local/lib/python3.10/dist-packages/pandas/core/nanops.py\u001b[0m in \u001b[0;36mf\u001b[0;34m(values, axis, skipna, **kwds)\u001b[0m\n\u001b[1;32m    145\u001b[0m                     \u001b[0mresult\u001b[0m \u001b[0;34m=\u001b[0m \u001b[0malt\u001b[0m\u001b[0;34m(\u001b[0m\u001b[0mvalues\u001b[0m\u001b[0;34m,\u001b[0m \u001b[0maxis\u001b[0m\u001b[0;34m=\u001b[0m\u001b[0maxis\u001b[0m\u001b[0;34m,\u001b[0m \u001b[0mskipna\u001b[0m\u001b[0;34m=\u001b[0m\u001b[0mskipna\u001b[0m\u001b[0;34m,\u001b[0m \u001b[0;34m**\u001b[0m\u001b[0mkwds\u001b[0m\u001b[0;34m)\u001b[0m\u001b[0;34m\u001b[0m\u001b[0;34m\u001b[0m\u001b[0m\n\u001b[1;32m    146\u001b[0m             \u001b[0;32melse\u001b[0m\u001b[0;34m:\u001b[0m\u001b[0;34m\u001b[0m\u001b[0;34m\u001b[0m\u001b[0m\n\u001b[0;32m--> 147\u001b[0;31m                 \u001b[0mresult\u001b[0m \u001b[0;34m=\u001b[0m \u001b[0malt\u001b[0m\u001b[0;34m(\u001b[0m\u001b[0mvalues\u001b[0m\u001b[0;34m,\u001b[0m \u001b[0maxis\u001b[0m\u001b[0;34m=\u001b[0m\u001b[0maxis\u001b[0m\u001b[0;34m,\u001b[0m \u001b[0mskipna\u001b[0m\u001b[0;34m=\u001b[0m\u001b[0mskipna\u001b[0m\u001b[0;34m,\u001b[0m \u001b[0;34m**\u001b[0m\u001b[0mkwds\u001b[0m\u001b[0;34m)\u001b[0m\u001b[0;34m\u001b[0m\u001b[0;34m\u001b[0m\u001b[0m\n\u001b[0m\u001b[1;32m    148\u001b[0m \u001b[0;34m\u001b[0m\u001b[0m\n\u001b[1;32m    149\u001b[0m             \u001b[0;32mreturn\u001b[0m \u001b[0mresult\u001b[0m\u001b[0;34m\u001b[0m\u001b[0;34m\u001b[0m\u001b[0m\n",
            "\u001b[0;32m/usr/local/lib/python3.10/dist-packages/pandas/core/nanops.py\u001b[0m in \u001b[0;36mnew_func\u001b[0;34m(values, axis, skipna, mask, **kwargs)\u001b[0m\n\u001b[1;32m    402\u001b[0m             \u001b[0mmask\u001b[0m \u001b[0;34m=\u001b[0m \u001b[0misna\u001b[0m\u001b[0;34m(\u001b[0m\u001b[0mvalues\u001b[0m\u001b[0;34m)\u001b[0m\u001b[0;34m\u001b[0m\u001b[0;34m\u001b[0m\u001b[0m\n\u001b[1;32m    403\u001b[0m \u001b[0;34m\u001b[0m\u001b[0m\n\u001b[0;32m--> 404\u001b[0;31m         \u001b[0mresult\u001b[0m \u001b[0;34m=\u001b[0m \u001b[0mfunc\u001b[0m\u001b[0;34m(\u001b[0m\u001b[0mvalues\u001b[0m\u001b[0;34m,\u001b[0m \u001b[0maxis\u001b[0m\u001b[0;34m=\u001b[0m\u001b[0maxis\u001b[0m\u001b[0;34m,\u001b[0m \u001b[0mskipna\u001b[0m\u001b[0;34m=\u001b[0m\u001b[0mskipna\u001b[0m\u001b[0;34m,\u001b[0m \u001b[0mmask\u001b[0m\u001b[0;34m=\u001b[0m\u001b[0mmask\u001b[0m\u001b[0;34m,\u001b[0m \u001b[0;34m**\u001b[0m\u001b[0mkwargs\u001b[0m\u001b[0;34m)\u001b[0m\u001b[0;34m\u001b[0m\u001b[0;34m\u001b[0m\u001b[0m\n\u001b[0m\u001b[1;32m    405\u001b[0m \u001b[0;34m\u001b[0m\u001b[0m\n\u001b[1;32m    406\u001b[0m         \u001b[0;32mif\u001b[0m \u001b[0mdatetimelike\u001b[0m\u001b[0;34m:\u001b[0m\u001b[0;34m\u001b[0m\u001b[0;34m\u001b[0m\u001b[0m\n",
            "\u001b[0;32m/usr/local/lib/python3.10/dist-packages/pandas/core/nanops.py\u001b[0m in \u001b[0;36mnanmean\u001b[0;34m(values, axis, skipna, mask)\u001b[0m\n\u001b[1;32m    717\u001b[0m \u001b[0;34m\u001b[0m\u001b[0m\n\u001b[1;32m    718\u001b[0m     \u001b[0mcount\u001b[0m \u001b[0;34m=\u001b[0m \u001b[0m_get_counts\u001b[0m\u001b[0;34m(\u001b[0m\u001b[0mvalues\u001b[0m\u001b[0;34m.\u001b[0m\u001b[0mshape\u001b[0m\u001b[0;34m,\u001b[0m \u001b[0mmask\u001b[0m\u001b[0;34m,\u001b[0m \u001b[0maxis\u001b[0m\u001b[0;34m,\u001b[0m \u001b[0mdtype\u001b[0m\u001b[0;34m=\u001b[0m\u001b[0mdtype_count\u001b[0m\u001b[0;34m)\u001b[0m\u001b[0;34m\u001b[0m\u001b[0;34m\u001b[0m\u001b[0m\n\u001b[0;32m--> 719\u001b[0;31m     \u001b[0mthe_sum\u001b[0m \u001b[0;34m=\u001b[0m \u001b[0mvalues\u001b[0m\u001b[0;34m.\u001b[0m\u001b[0msum\u001b[0m\u001b[0;34m(\u001b[0m\u001b[0maxis\u001b[0m\u001b[0;34m,\u001b[0m \u001b[0mdtype\u001b[0m\u001b[0;34m=\u001b[0m\u001b[0mdtype_sum\u001b[0m\u001b[0;34m)\u001b[0m\u001b[0;34m\u001b[0m\u001b[0;34m\u001b[0m\u001b[0m\n\u001b[0m\u001b[1;32m    720\u001b[0m     \u001b[0mthe_sum\u001b[0m \u001b[0;34m=\u001b[0m \u001b[0m_ensure_numeric\u001b[0m\u001b[0;34m(\u001b[0m\u001b[0mthe_sum\u001b[0m\u001b[0;34m)\u001b[0m\u001b[0;34m\u001b[0m\u001b[0;34m\u001b[0m\u001b[0m\n\u001b[1;32m    721\u001b[0m \u001b[0;34m\u001b[0m\u001b[0m\n",
            "\u001b[0;32m/usr/local/lib/python3.10/dist-packages/numpy/core/_methods.py\u001b[0m in \u001b[0;36m_sum\u001b[0;34m(a, axis, dtype, out, keepdims, initial, where)\u001b[0m\n\u001b[1;32m     47\u001b[0m def _sum(a, axis=None, dtype=None, out=None, keepdims=False,\n\u001b[1;32m     48\u001b[0m          initial=_NoValue, where=True):\n\u001b[0;32m---> 49\u001b[0;31m     \u001b[0;32mreturn\u001b[0m \u001b[0mumr_sum\u001b[0m\u001b[0;34m(\u001b[0m\u001b[0ma\u001b[0m\u001b[0;34m,\u001b[0m \u001b[0maxis\u001b[0m\u001b[0;34m,\u001b[0m \u001b[0mdtype\u001b[0m\u001b[0;34m,\u001b[0m \u001b[0mout\u001b[0m\u001b[0;34m,\u001b[0m \u001b[0mkeepdims\u001b[0m\u001b[0;34m,\u001b[0m \u001b[0minitial\u001b[0m\u001b[0;34m,\u001b[0m \u001b[0mwhere\u001b[0m\u001b[0;34m)\u001b[0m\u001b[0;34m\u001b[0m\u001b[0;34m\u001b[0m\u001b[0m\n\u001b[0m\u001b[1;32m     50\u001b[0m \u001b[0;34m\u001b[0m\u001b[0m\n\u001b[1;32m     51\u001b[0m def _prod(a, axis=None, dtype=None, out=None, keepdims=False,\n",
            "\u001b[0;31mTypeError\u001b[0m: unsupported operand type(s) for +: 'numpy.int64' and 'Timedelta'"
          ]
        }
      ]
    },
    {
      "cell_type": "code",
      "source": [
        "#Calculating median of the daily cases\n",
        "median_daily_deaths = daily_deaths.median()\n",
        "print(f\"Median Daily Deaths: {median_daily_deaths}\")"
      ],
      "metadata": {
        "colab": {
          "base_uri": "https://localhost:8080/",
          "height": 182
        },
        "id": "UFwbko2j-Rip",
        "outputId": "1120b422-65a1-405c-dcf0-8db729fd973c"
      },
      "execution_count": null,
      "outputs": [
        {
          "output_type": "error",
          "ename": "NameError",
          "evalue": "name 'daily_deaths' is not defined",
          "traceback": [
            "\u001b[0;31m---------------------------------------------------------------------------\u001b[0m",
            "\u001b[0;31mNameError\u001b[0m                                 Traceback (most recent call last)",
            "\u001b[0;32m<ipython-input-17-159c1feb7d4b>\u001b[0m in \u001b[0;36m<cell line: 2>\u001b[0;34m()\u001b[0m\n\u001b[1;32m      1\u001b[0m \u001b[0;31m#Calculating median of the daily cases\u001b[0m\u001b[0;34m\u001b[0m\u001b[0;34m\u001b[0m\u001b[0m\n\u001b[0;32m----> 2\u001b[0;31m \u001b[0mmedian_daily_deaths\u001b[0m \u001b[0;34m=\u001b[0m \u001b[0mdaily_deaths\u001b[0m\u001b[0;34m.\u001b[0m\u001b[0mmedian\u001b[0m\u001b[0;34m(\u001b[0m\u001b[0;34m)\u001b[0m\u001b[0;34m\u001b[0m\u001b[0;34m\u001b[0m\u001b[0m\n\u001b[0m\u001b[1;32m      3\u001b[0m \u001b[0mprint\u001b[0m\u001b[0;34m(\u001b[0m\u001b[0;34mf\"Median Daily Deaths: {median_daily_deaths}\"\u001b[0m\u001b[0;34m)\u001b[0m\u001b[0;34m\u001b[0m\u001b[0;34m\u001b[0m\u001b[0m\n",
            "\u001b[0;31mNameError\u001b[0m: name 'daily_deaths' is not defined"
          ]
        }
      ]
    },
    {
      "cell_type": "markdown",
      "source": [
        "**Task 4**"
      ],
      "metadata": {
        "id": "YJTHMz5l-Q3i"
      }
    },
    {
      "cell_type": "markdown",
      "source": [
        "Calculation of daily death cases worldwide"
      ],
      "metadata": {
        "id": "v13IEUVQGuMe"
      }
    },
    {
      "cell_type": "code",
      "source": [
        "# calculating daily deaths\n",
        "daily_deaths = deaths_df[date_columns].diff(axis=1).fillna(0)\n",
        "\n",
        "# Sum the daily deaths across all countries for each day\n",
        "total_daily_deaths_worldwide = daily_deaths.sum(axis=0)\n",
        "total_daily_deaths = total_daily_deaths_worldwide.reset_index()\n",
        "\n",
        "# Renaming  columns\n",
        "total_daily_deaths.columns = ['Date', 'Total_Deaths']\n",
        "\n",
        "print(total_daily_deaths.head())  # Display the first few rows of the total daily deaths"
      ],
      "metadata": {
        "colab": {
          "base_uri": "https://localhost:8080/"
        },
        "id": "avCQ42Dhi9Eq",
        "outputId": "e8d816c2-0738-4734-ac49-c58d33bea86f"
      },
      "execution_count": null,
      "outputs": [
        {
          "output_type": "stream",
          "name": "stdout",
          "text": [
            "1/22/2020                    0\n",
            "1/23/2020    289 days 00:00:00\n",
            "1/24/2020    289 days 00:00:00\n",
            "1/25/2020    289 days 00:00:00\n",
            "1/26/2020    289 days 00:00:00\n",
            "dtype: object\n"
          ]
        }
      ]
    },
    {
      "cell_type": "markdown",
      "source": [],
      "metadata": {
        "id": "RLKt7PxUjGYP"
      }
    },
    {
      "cell_type": "code",
      "source": [
        "# Ensure that the Total_Deaths column is numeric\n",
        "total_daily_deaths['Total_Deaths'] = pd.to_numeric(total_daily_deaths['Total_Deaths'], errors='coerce').fillna(0)\n",
        "\n",
        "# Function to calculate daily increase in deaths\n",
        "def daily_death_increase(death_series):\n",
        "    return death_series.diff().fillna(0)\n",
        "\n",
        "# Calculating the daily increase\n",
        "total_daily_deaths['Daily_Increase'] = daily_death_increase(total_daily_deaths['Total_Deaths'])\n",
        "\n",
        "print(total_daily_deaths[['Date', 'Daily_Increase']].head())  # Display the first few results"
      ],
      "metadata": {
        "colab": {
          "base_uri": "https://localhost:8080/"
        },
        "id": "IRwACEf6jHIR",
        "outputId": "51936277-08b9-451a-e205-f76955f5045d"
      },
      "execution_count": null,
      "outputs": [
        {
          "output_type": "stream",
          "name": "stdout",
          "text": [
            "        Date  Daily_Increase\n",
            "0  1/22/2020             0.0\n",
            "1  1/23/2020             0.0\n",
            "2  1/24/2020             0.0\n",
            "3  1/25/2020             0.0\n",
            "4  1/26/2020             0.0\n"
          ]
        }
      ]
    },
    {
      "cell_type": "markdown",
      "source": [],
      "metadata": {
        "id": "azyghL8YjLCs"
      }
    },
    {
      "cell_type": "code",
      "source": [
        "# Visualizing daily death cases worldwide\n",
        "plt.figure(figsize=(14, 7))\n",
        "plt.plot(total_daily_deaths['Date'], total_daily_deaths['Daily_Increase'], color='blue')\n",
        "plt.title('Daily Increase in COVID-19 Deaths Worldwide')\n",
        "plt.xlabel('Date')\n",
        "plt.ylabel('Daily Increase in Deaths')\n",
        "plt.xticks(rotation=45)\n",
        "plt.grid()\n",
        "plt.tight_layout()\n",
        "plt.show()"
      ],
      "metadata": {
        "colab": {
          "base_uri": "https://localhost:8080/",
          "height": 374
        },
        "id": "JKr1g_mxjLt0",
        "outputId": "1fc64872-40c5-4a63-8eda-57a707cfc091"
      },
      "execution_count": null,
      "outputs": [
        {
          "output_type": "display_data",
          "data": {
            "text/plain": [
              "<Figure size 1400x700 with 1 Axes>"
            ],
            "image/png": "[encoded data removed]"
          },
          "metadata": {}
        }
      ]
    }
  ]
}