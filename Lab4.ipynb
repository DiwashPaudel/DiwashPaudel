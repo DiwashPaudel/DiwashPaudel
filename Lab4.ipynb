{
  "nbformat": 4,
  "nbformat_minor": 0,
  "metadata": {
    "colab": {
      "provenance": [],
      "authorship_tag": "ABX9TyPciw//rec2mIjv6447lnHu",
      "include_colab_link": true
    },
    "kernelspec": {
      "name": "python3",
      "display_name": "Python 3"
    },
    "language_info": {
      "name": "python"
    }
  },
  "cells": [
    {
      "cell_type": "markdown",
      "metadata": {
        "id": "view-in-github",
        "colab_type": "text"
      },
      "source": [
        "<a href=\"https://colab.research.google.com/github/DiwashPaudel/DiwashPaudel/blob/main/Lab4.ipynb\" target=\"_parent\"><img src=\"https://colab.research.google.com/assets/colab-badge.svg\" alt=\"Open In Colab\"/></a>"
      ]
    },
    {
      "cell_type": "markdown",
      "source": [
        "**Answer No.1**"
      ],
      "metadata": {
        "id": "196ePHf47wDs"
      }
    },
    {
      "cell_type": "markdown",
      "source": [
        " i) Printing the first 5 rows and all of the columns for those rows"
      ],
      "metadata": {
        "id": "EyE9wQR97181"
      }
    },
    {
      "cell_type": "code",
      "execution_count": null,
      "metadata": {
        "id": "MTbDMfeB5VBq",
        "colab": {
          "base_uri": "https://localhost:8080/"
        },
        "outputId": "0b5e9c0f-b24e-41f8-d540-b3f8e934f2b1"
      },
      "outputs": [
        {
          "output_type": "stream",
          "name": "stdout",
          "text": [
            "   id     emp_name   emp_salary   start_date      dept\n",
            "0   1   Vishavjeet       999.30   2018-12-04        IT\n",
            "1   2       Nimesh       878.40   2017-09-24        IT\n",
            "2   3         Sara       611.00   2014-11-15        HR\n",
            "3   4       Gulfam       729.00   2014-05-11        IT\n",
            "4   5         Jack       845.25   2016-07-27   Finance\n"
          ]
        }
      ],
      "source": [
        "import numpy as np\n",
        "import pandas as pd\n",
        "\n",
        "file_path = 'sample_data/datainput.csv'\n",
        "data = pd.read_csv(file_path)\n",
        "five_rows = data.head(5)\n",
        "print(five_rows)"
      ]
    },
    {
      "cell_type": "markdown",
      "source": [
        "ii)  Printing the rows from\n",
        "position 5 onwards and columns from position 2 onwards"
      ],
      "metadata": {
        "id": "pNtULkxY8SYp"
      }
    },
    {
      "cell_type": "code",
      "source": [
        "file_path = 'sample_data/datainput.csv'\n",
        "data = pd.read_csv(file_path)\n",
        "\n",
        "five_rows = data.iloc[5:, 2:]\n",
        "print(five_rows)"
      ],
      "metadata": {
        "colab": {
          "base_uri": "https://localhost:8080/"
        },
        "id": "CiaoNwIw9w-A",
        "outputId": "2314719c-8339-4c32-8b61-11c2c911080d"
      },
      "execution_count": null,
      "outputs": [
        {
          "output_type": "stream",
          "name": "stdout",
          "text": [
            "    emp_salary   start_date         dept\n",
            "5        878.0   2014-05-21    Marketing\n",
            "6        632.8   2018-07-30   Operations\n",
            "7        722.5   2017-06-17          SEO\n"
          ]
        }
      ]
    },
    {
      "cell_type": "markdown",
      "source": [
        "iii) Printing the first two columns and all of the rows for\n",
        "the column"
      ],
      "metadata": {
        "id": "fO1J7Jrp9s5x"
      }
    },
    {
      "cell_type": "code",
      "source": [
        "file_path = 'sample_data/datainput.csv'\n",
        "data = pd.read_csv(file_path)\n",
        "\n",
        "two_columns = data.iloc[:, :2]\n",
        "print(two_columns)\n"
      ],
      "metadata": {
        "colab": {
          "base_uri": "https://localhost:8080/"
        },
        "id": "_bjBMZcW-PXu",
        "outputId": "3da0e5c4-210d-4c5a-cfa8-9e2c691fc656"
      },
      "execution_count": null,
      "outputs": [
        {
          "output_type": "stream",
          "name": "stdout",
          "text": [
            "   id     emp_name\n",
            "0   1   Vishavjeet\n",
            "1   2       Nimesh\n",
            "2   3         Sara\n",
            "3   4       Gulfam\n",
            "4   5         Jack\n",
            "5   6      Jessica\n",
            "6   7       Saurav\n"
          ]
        }
      ]
    },
    {
      "cell_type": "markdown",
      "source": [
        " iv) Print from 6th row and all of the columns for that row"
      ],
      "metadata": {
        "id": "LNgXsHD2-uwU"
      }
    },
    {
      "cell_type": "code",
      "source": [
        "file_path = 'sample_data/datainput.csv'\n",
        "data = pd.read_csv(file_path)\n",
        "\n",
        "sixth_row = data.iloc[5:6, :]\n",
        "print(sixth_row)\n"
      ],
      "metadata": {
        "colab": {
          "base_uri": "https://localhost:8080/"
        },
        "id": "lOha-dOl-uSq",
        "outputId": "1d15b06b-53a2-403f-e33c-e4e867ea879f"
      },
      "execution_count": null,
      "outputs": [
        {
          "output_type": "stream",
          "name": "stdout",
          "text": [
            "   id  emp_name   emp_salary   start_date       dept \n",
            "5   6   Jessica        878.0   2014-05-21   Marketing\n"
          ]
        }
      ]
    },
    {
      "cell_type": "code",
      "source": [],
      "metadata": {
        "id": "QWdTeZq0CeD5"
      },
      "execution_count": null,
      "outputs": []
    },
    {
      "cell_type": "markdown",
      "source": [
        "**Answer No. 2**"
      ],
      "metadata": {
        "id": "JWspm-ZdCV7D"
      }
    },
    {
      "cell_type": "markdown",
      "source": [
        "i) Loading the data from the JSON file into a pandas DataFrame"
      ],
      "metadata": {
        "id": "8XqXy6HUBqV4"
      }
    },
    {
      "cell_type": "code",
      "source": [
        "import pandas as pd\n",
        "import json\n",
        "import numpy as np\n",
        "\n",
        "file_path = 'sample_data/employees.json' #storing json file in a file_path variable\n",
        "df = pd.read_json(file_path) #reading json file using read_json\n",
        "print(df)"
      ],
      "metadata": {
        "colab": {
          "base_uri": "https://localhost:8080/"
        },
        "id": "GPG3mfLMB4fP",
        "outputId": "075e5b9b-7b5a-49bf-ec63-9dfdf4db2f16"
      },
      "execution_count": null,
      "outputs": [
        {
          "output_type": "stream",
          "name": "stdout",
          "text": [
            "                                           employees\n",
            "0  {'name': 'John', 'age': 35, 'department': 'Eng...\n",
            "1  {'name': 'Alice', 'age': 28, 'department': 'Ma...\n",
            "2  {'name': 'Michael', 'age': 42, 'department': '...\n"
          ]
        }
      ]
    },
    {
      "cell_type": "markdown",
      "source": [
        "ii) Displaying the DataFrame"
      ],
      "metadata": {
        "id": "Vdnbe_h4B_em"
      }
    },
    {
      "cell_type": "code",
      "source": [
        "\n",
        "print(df) #printing dataframe store in df variable print function used to display\n"
      ],
      "metadata": {
        "colab": {
          "base_uri": "https://localhost:8080/"
        },
        "id": "WvIQdm_sCi0h",
        "outputId": "bb921329-90c4-4b76-80dd-a7426858f946"
      },
      "execution_count": null,
      "outputs": [
        {
          "output_type": "stream",
          "name": "stdout",
          "text": [
            "                                           employees\n",
            "0  {'name': 'John', 'age': 35, 'department': 'Eng...\n",
            "1  {'name': 'Alice', 'age': 28, 'department': 'Ma...\n",
            "2  {'name': 'Michael', 'age': 42, 'department': '...\n"
          ]
        }
      ]
    },
    {
      "cell_type": "markdown",
      "source": [
        "iii) Convert the DataFrame to a JSON string"
      ],
      "metadata": {
        "id": "gstWiG6kCidh"
      }
    },
    {
      "cell_type": "code",
      "source": [
        "#Converting the DataFrame to a JSON string with each row represented as a dictionary (record format)\n",
        "jsonstring = df.to_json(orient='records')\n",
        "print(jsonstring) #printing the resulting JSON string\n"
      ],
      "metadata": {
        "colab": {
          "base_uri": "https://localhost:8080/"
        },
        "id": "GAMhXV6lCrrO",
        "outputId": "3c2cc7bf-507c-499e-e41c-467f12ba8c31"
      },
      "execution_count": null,
      "outputs": [
        {
          "output_type": "stream",
          "name": "stdout",
          "text": [
            "[{\"employees\":{\"name\":\"John\",\"age\":35,\"department\":\"Engineering\"}},{\"employees\":{\"name\":\"Alice\",\"age\":28,\"department\":\"Marketing\"}},{\"employees\":{\"name\":\"Michael\",\"age\":42,\"department\":\"Finance\"}}]\n"
          ]
        }
      ]
    },
    {
      "cell_type": "markdown",
      "source": [
        "iv) Converting the DataFrame to a JSON string with records orientation"
      ],
      "metadata": {
        "id": "WZpoRJ7iCqxc"
      }
    },
    {
      "cell_type": "code",
      "source": [
        "#Converting the DataFrame to a JSON string with each row represented as a dictionary (record format)\n",
        "jsonStringdf = df.to_json(orient='records')\n",
        "print(jsonStringdf)#printing the resulting JSON string\n"
      ],
      "metadata": {
        "colab": {
          "base_uri": "https://localhost:8080/"
        },
        "id": "UCMv0NK_DHOI",
        "outputId": "0bc5486d-8804-4ca4-b0ea-1c5dc10fbd54"
      },
      "execution_count": null,
      "outputs": [
        {
          "output_type": "stream",
          "name": "stdout",
          "text": [
            "[{\"employees\":{\"name\":\"John\",\"age\":35,\"department\":\"Engineering\"}},{\"employees\":{\"name\":\"Alice\",\"age\":28,\"department\":\"Marketing\"}},{\"employees\":{\"name\":\"Michael\",\"age\":42,\"department\":\"Finance\"}}]\n"
          ]
        }
      ]
    },
    {
      "cell_type": "markdown",
      "source": [
        "v) Export the DataFrame to a new JSON file named employees_output.json"
      ],
      "metadata": {
        "id": "AaHmPzEaC8Nr"
      }
    },
    {
      "cell_type": "code",
      "source": [
        "#exporting the DataFrame to a new JSON file named employees_output.json in sample_data folder\n",
        "df.to_json('sample_data/employees_output.json', orient='records')\n"
      ],
      "metadata": {
        "id": "gcXaPnAhDHmV"
      },
      "execution_count": null,
      "outputs": []
    },
    {
      "cell_type": "code",
      "source": [],
      "metadata": {
        "id": "hUen9ImQAUAr"
      },
      "execution_count": null,
      "outputs": []
    },
    {
      "cell_type": "markdown",
      "source": [
        "**Answer No. 3**"
      ],
      "metadata": {
        "id": "NvSD0EXGAUaB"
      }
    },
    {
      "cell_type": "code",
      "source": [
        "import numpy as np\n",
        "import pandas as pd\n",
        "\n",
        "student_data = pd.DataFrame({\n",
        "    'Student ID' : range(1, 16),\n",
        "    'Exam Score' : [85,70,np.nan, 90,75,85,65,92,78,83,np.nan,80,85,95,72]\n",
        "})"
      ],
      "metadata": {
        "id": "A3ANg7ZNBI_j"
      },
      "execution_count": null,
      "outputs": []
    },
    {
      "cell_type": "markdown",
      "source": [
        "i) Handling Missing Data:\n",
        "Identify and handle missing values in the 'Exam Score' column by replacing them with .the mean score of the available scoresreplace it with the nearest available score above 70.\n",
        "\n"
      ],
      "metadata": {
        "id": "OcyxMJx6AZrW"
      }
    },
    {
      "cell_type": "code",
      "source": [
        "# Calculating  the mean of available scores\n",
        "mean_score = student_data['Exam Score'].mean()\n",
        "# Replace NaN values with the mean score\n",
        "student_data['Exam Score'].fillna(mean_score, inplace=True)\n",
        "# Loop through each row in the dataset where the 'Exam Score' is missing (NaN)\n",
        "for index, row in student_data[student_data['Exam Score'].isnull()].iterrows():\n",
        "    # Getting  all the 'Exam Scores' that are above 70\n",
        "    scores_above_70 = student_data.loc[student_data['Exam Score'] > 70, 'Exam Score']\n",
        "    # Check if there are any scores above 70 available\n",
        "    if not scores_above_70.empty:\n",
        "        # Find the score from the list of scores above 70 that is closest to the average score\n",
        "        closest_score = min(scores_above_70, key=lambda x: abs(x - mean_score))\n",
        "        # Update the missing 'Exam Score' with this closest score\n",
        "        student_data.loc[index, 'Exam Score'] = closest_score\n",
        "\n",
        "# Print the updated student data after filling in the missing scores\n",
        "print(student_data)\n",
        "\n"
      ],
      "metadata": {
        "colab": {
          "base_uri": "https://localhost:8080/"
        },
        "id": "Fd3jYBRABAcD",
        "outputId": "40f648aa-9f3d-45b1-98ce-572f52817602"
      },
      "execution_count": null,
      "outputs": [
        {
          "output_type": "stream",
          "name": "stdout",
          "text": [
            "    Student ID  Exam Score\n",
            "0            1   85.000000\n",
            "1            2   70.000000\n",
            "2            3   81.153846\n",
            "3            4   90.000000\n",
            "4            5   75.000000\n",
            "5            6   85.000000\n",
            "6            7   65.000000\n",
            "7            8   92.000000\n",
            "8            9   78.000000\n",
            "9           10   83.000000\n",
            "10          11   81.153846\n",
            "11          12   80.000000\n",
            "12          13   85.000000\n",
            "13          14   95.000000\n",
            "14          15   72.000000\n"
          ]
        }
      ]
    },
    {
      "cell_type": "markdown",
      "source": [
        "ii) Removing Duplicates and Replacing Values:\n",
        "Check for any duplicate entries in the dataset and remove them. Additionally, if any score is below 70,"
      ],
      "metadata": {
        "id": "YEYcbmWyBA3V"
      }
    },
    {
      "cell_type": "code",
      "source": [
        " # Remove duplicate rows based on all columns using drop_duplicate inbuilt function\n",
        "student_data.drop_duplicates(inplace=True)\n",
        "# Replace scores below 70 with 70\n",
        "student_data.loc[student_data['Exam Score'] < 70, 'Exam Score'] = 70\n",
        "# Print the updated student data after removing duplicates and replacing scores\n",
        "print(student_data)\n"
      ],
      "metadata": {
        "colab": {
          "base_uri": "https://localhost:8080/"
        },
        "id": "jQjpv2AnBB-D",
        "outputId": "ac77eb88-582a-44b7-8557-79117e905ef9"
      },
      "execution_count": null,
      "outputs": [
        {
          "output_type": "stream",
          "name": "stdout",
          "text": [
            "    Student ID  Exam Score Score Category\n",
            "0            1   85.000000         Medium\n",
            "1            2   70.000000            Low\n",
            "2            3   81.153846         Medium\n",
            "3            4   90.000000           High\n",
            "4            5   75.000000            Low\n",
            "5            6   85.000000         Medium\n",
            "6            7   70.000000            Low\n",
            "7            8   92.000000           High\n",
            "8            9   78.000000         Medium\n",
            "9           10   83.000000         Medium\n",
            "10          11   81.153846         Medium\n",
            "11          12   80.000000         Medium\n",
            "12          13   85.000000         Medium\n",
            "13          14   95.000000           High\n",
            "14          15   72.000000            Low\n"
          ]
        }
      ]
    },
    {
      "cell_type": "markdown",
      "source": [
        "iii) Binning and Sampling:\n",
        "Divide the dataset into three bins based on the exam scores: 'Low' (scores <= 75), 'Medium' (75 <\n",
        "scores <= 85), and 'High' (scores > 85). After binning, randomly select two samples from each bin for\n",
        "further analysis."
      ],
      "metadata": {
        "id": "kqAZ5LFiBCVg"
      }
    },
    {
      "cell_type": "code",
      "source": [
        "# Creating  bins and labels\n",
        "bins = [0, 75, 85, float('inf')]\n",
        "labels = ['Low', 'Medium', 'High']\n",
        "# Adding a new column in 'Score Category' based on the bins\n",
        "student_data['Score Category'] = pd.cut(student_data['Exam Score'], bins=bins, labels=labels)\n",
        "# Creating an empty DataFrame to store the samples\n",
        "sampled_data = pd.DataFrame()\n",
        "# using lopp ti Iterate through each bin category\n",
        "for category in ['Low', 'Medium', 'High']:\n",
        "  # Getting the data for the current category\n",
        "  category_data = student_data[student_data['Score Category'] == category]\n",
        "# Sample two rows randomly from the category data\n",
        "  sample = category_data.sample(n=2, random_state=1)  # Use random_state for reproducibility\n",
        "# Append the sampled rows to the sampled_data DataFrame\n",
        "  sampled_data = pd.concat([sampled_data, sample])\n",
        "# Print the sampled data\n",
        "print(sampled_data)\n"
      ],
      "metadata": {
        "colab": {
          "base_uri": "https://localhost:8080/"
        },
        "id": "-E3Ie2wVBHfG",
        "outputId": "4915fb7d-f8e4-466b-83c4-87597e9e94c5"
      },
      "execution_count": null,
      "outputs": [
        {
          "output_type": "stream",
          "name": "stdout",
          "text": [
            "    Student ID  Exam Score Score Category\n",
            "14          15        72.0            Low\n",
            "6            7        70.0            Low\n",
            "12          13        85.0         Medium\n",
            "5            6        85.0         Medium\n",
            "3            4        90.0           High\n",
            "13          14        95.0           High\n"
          ]
        }
      ]
    }
  ]
}